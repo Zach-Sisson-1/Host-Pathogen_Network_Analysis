{
 "cells": [
  {
   "cell_type": "markdown",
   "id": "aa1b9a56-f654-49b1-82e6-0fc7f07d492c",
   "metadata": {
    "tags": []
   },
   "source": [
    "# **A Network Analysis of Host-Pathogen Interactions**"
   ]
  },
  {
   "cell_type": "markdown",
   "id": "bb582738-38c6-4b44-ba88-78208a598787",
   "metadata": {},
   "source": [
    "### Authored by Andrew Powers, Zach Sisson, and Vandana Reddy"
   ]
  },
  {
   "cell_type": "markdown",
   "id": "8d705a8f-e9c2-4cd7-8271-8b2aaf996b84",
   "metadata": {},
   "source": [
    "### Mini Abstract Here"
   ]
  },
  {
   "cell_type": "markdown",
   "id": "37250906-9b54-4713-a1b2-446005da6ca6",
   "metadata": {},
   "source": [
    "# Introduction:"
   ]
  },
  {
   "cell_type": "markdown",
   "id": "25cced03-e58d-48a4-8821-8fd38c4a2b26",
   "metadata": {},
   "source": [
    "Description of the problem of Mtb and background info.. yada yada, our goal and rationale for this project"
   ]
  },
  {
   "cell_type": "markdown",
   "id": "81be2999-d460-4fd7-b0a4-488ff4ec4098",
   "metadata": {},
   "source": [
    "## Workflow Overview and Rationale"
   ]
  },
  {
   "cell_type": "markdown",
   "id": "bdbaa790-e3f7-46d3-a93d-b2841c5b80e1",
   "metadata": {},
   "source": [
    "..........."
   ]
  },
  {
   "cell_type": "markdown",
   "id": "87490361-f22f-4ba0-937e-8c4481b60cb9",
   "metadata": {
    "jp-MarkdownHeadingCollapsed": true,
    "tags": []
   },
   "source": [
    "# **Part 1 - Constructing The Protein Networks**"
   ]
  },
  {
   "cell_type": "markdown",
   "id": "c122a328-9de0-4587-9240-d78d1f26672a",
   "metadata": {},
   "source": [
    "Will be composed of a notebook for getting data, merging data, and constructing the initial Network as well as the diseased network, maybe including some top-level features like degree, density, etc. \n",
    "- Healthy Network creation\n",
    "- Diseased network Creation "
   ]
  },
  {
   "cell_type": "markdown",
   "id": "4fc88885-d072-4bd6-abc5-10b71c871048",
   "metadata": {
    "tags": []
   },
   "source": [
    "# **Part 2 - Community Analysis**"
   ]
  },
  {
   "cell_type": "markdown",
   "id": "1e51c7f6-6826-4035-a057-0b8edb23e648",
   "metadata": {},
   "source": [
    "See notebook"
   ]
  },
  {
   "cell_type": "markdown",
   "id": "d056612b-94bf-423d-9252-9fdd221e6076",
   "metadata": {
    "tags": []
   },
   "source": [
    "# **Part 3 - Centrality Analysis**"
   ]
  },
  {
   "cell_type": "markdown",
   "id": "5195c4c9-c546-4333-a412-3ff59e52dbe1",
   "metadata": {},
   "source": [
    "see notebook"
   ]
  },
  {
   "cell_type": "markdown",
   "id": "0a72314c-f048-4ac4-a811-84ffbac8c2c9",
   "metadata": {},
   "source": [
    "# **Part 4 - Flow Analysis?**"
   ]
  },
  {
   "cell_type": "markdown",
   "id": "5166e327-2580-4921-b512-9908847e16c9",
   "metadata": {},
   "source": [
    "# **Concluding Remarks and Next Steps**"
   ]
  }
 ],
 "metadata": {
  "kernelspec": {
   "display_name": "Python 3 (ipykernel)",
   "language": "python",
   "name": "python3"
  },
  "language_info": {
   "codemirror_mode": {
    "name": "ipython",
    "version": 3
   },
   "file_extension": ".py",
   "mimetype": "text/x-python",
   "name": "python",
   "nbconvert_exporter": "python",
   "pygments_lexer": "ipython3",
   "version": "3.9.6"
  }
 },
 "nbformat": 4,
 "nbformat_minor": 5
}
