{
 "cells": [
  {
   "cell_type": "markdown",
   "id": "0085c811-ab9b-4e21-a8aa-c2a0b28e4919",
   "metadata": {
    "tags": []
   },
   "source": [
    "# **Community Analysis**"
   ]
  },
  {
   "cell_type": "markdown",
   "id": "3dd39ed8-1867-4453-baa4-9679f635ab1b",
   "metadata": {},
   "source": [
    "Workflow:\n",
    "\n",
    "0) intro to community Detection and Algos used\n",
    "1) Run the 4 algos on entire Healthy network, looking at what communities each method is detecting etc - general analysis\n",
    "2) Run 4 algos on Diseased Network, looking at same, \n",
    "3) Run 4 algos on healthy-subnetwork - talk about communities\n",
    "4) Run 4 algos on Diseased - subnetwork - talk about differences\n",
    "**At each step, compare results across 4 algos"
   ]
  },
  {
   "cell_type": "markdown",
   "id": "f977a067-61af-4a7f-8305-652adb8b8389",
   "metadata": {},
   "source": [
    "## **Introduction** - Understanding Communities"
   ]
  },
  {
   "cell_type": "markdown",
   "id": "ab1dc873-9ff6-4f31-a555-67fd10cf1a8e",
   "metadata": {},
   "source": [
    "In network science, communities can generally be defined as locally dense connected subgraphs. That is to say, all nodes of a community must be accessible through other nodes of the same community. The existence of communities within a network relies upon the connectedness and density hypotheses, which assumes that (1) if a network consists of two isolated components, each community is limited to only one component. The hypothesis also implies that on the same component a community cannot consist of two subgraphs that do not have a link to each other; and (2)Nodes in a community are more likely to connect to other members of the same community than to nodes in other communities. \n",
    "\n",
    "The challenge of detecting communities in protein networks lies in the fact that both the number and size of communities are unknown, unlike in methods of graph partitioning, where these parameters are given. The relationship between a network size and the number of possible, unique partitions is represented as Dobinski's formula: "
   ]
  },
  {
   "cell_type": "markdown",
   "id": "b03eb200-f232-43f8-9e1a-2f58aad5efef",
   "metadata": {},
   "source": [
    "$$B_N=\\frac{1}{e}\\sum\\limits_{j = 0}^\\infty  {\\frac{{j^N }}{{j!}}}$$\n"
   ]
  },
  {
   "cell_type": "markdown",
   "id": "c0511c46-b39a-4b0e-88bd-0fc7a1d5f5b5",
   "metadata": {},
   "source": [
    "Where $B_N$ is the Bell number count of all possible partitions in a set, indicating the number of possible partitions grows faster than exponentially with larger networks, making the problem NP-hard. \n",
    "\n",
    "In order to identify communities within our protein networks, we will be implementing a variety of algorithms described below."
   ]
  },
  {
   "cell_type": "markdown",
   "id": "9d31f0e0-2642-4033-90da-ad1beb5913ec",
   "metadata": {},
   "source": [
    "## Overview of Implemented Community Detection Algorithms:"
   ]
  },
  {
   "cell_type": "markdown",
   "id": "7de98c01-136d-4cec-92b2-03e37360a502",
   "metadata": {},
   "source": [
    "## **The Louvain Algorithm**"
   ]
  },
  {
   "cell_type": "markdown",
   "id": "4f268c44-3f71-4051-9d13-0617a223fb9b",
   "metadata": {},
   "source": [
    "When we assume the hypothesis that a randomly wired network lacks inherent community structure, any systematic deviation from that random configuration becomes meaninfgul, and if measured, allows for comparisons to be made in the quality of network partitions. This measurment called modularity can be written as:\n",
    "\n",
    "\n"
   ]
  },
  {
   "cell_type": "markdown",
   "id": "b8e8718d-764e-445d-a014-bc3faf886d75",
   "metadata": {},
   "source": [
    "$$M_c=\\frac{{L_c }}{L}-\\left({\\frac{{k_c }}{{2L}}}\\right)^2$$\n"
   ]
  },
  {
   "cell_type": "markdown",
   "id": "9b25e55a-37da-4717-8921-bf9d266f1e1e",
   "metadata": {},
   "source": [
    "where L is the number of links in the graph, L<sub>c </sub> is the total number of links within the proposed community, and k<sub>c </sub> is the total degree of the nodes in this community.\n",
    "\n",
    "This measure, when summed over all n<sub>c</sub> identified communuties, represents the partition's modularity and can be defined as:\n",
    "\n",
    "\n"
   ]
  },
  {
   "cell_type": "markdown",
   "id": "e176ed77-a5ff-4218-b6fd-57210bc8465d",
   "metadata": {},
   "source": [
    "$$M=\\sum\\limits_{c=1}^{n_c }{\\left[{\\frac{{L_c}}{L}-\\left({\\frac{{k_c}}{{2L}}}\\right)^2}\\right]}$$"
   ]
  },
  {
   "cell_type": "markdown",
   "id": "1b7e1bab-9979-42a8-b91f-b81ad1c392f9",
   "metadata": {},
   "source": [
    "This value can range from -1/2 to 1, where 0 would indicate the whole network is a single community. If each node belonged to a separate community, then L<sub>c</sub> would be 0 and the resulting M value would be negative. Since M is a fractional measure of the difference between the observed and expected number of edges, paritions with a higher M should indicate that those paritions more accurately capture the true community structure.  "
   ]
  },
  {
   "cell_type": "markdown",
   "id": "37c55212-824a-4577-b0e7-1e2d820c2d5c",
   "metadata": {},
   "source": [
    "Indeed, the Maximal Modularity Hypothesis, which states that \"For a given network the partition with maximum modularity corresponds to the optimal community structure\", is the basis for the Louvain algorithm. The Louvain algorithm is a greedy, agglomerative algorithm which uses a two-part iterative process broken into modularity optimization and community aggregation. To start, the algorithm labels each node as its own community. It then optimizes for modularity by reassigning nodes to neighboring communities only if the calculated difference in modularity is positive. This step is repeated until maximal modularity has been reached. In the community aggregation step, each community is reassigned as a super-node with a self-loop containing all its within-community edges, and the super-nodes are then treated as a new network, where the modularity optimization can be reapplied. This iterative process yields a hierarchical organization of communities."
   ]
  },
  {
   "cell_type": "markdown",
   "id": "9aa0cff6-5901-4e6f-9a5d-c1d671b7c945",
   "metadata": {},
   "source": [
    "The Louvain algorithm is fast, and scales to large networks due to its use of a heuristic in order to reduce the computational complexity associated with the NP-hard problem of optimizing modularity within a network. "
   ]
  },
  {
   "cell_type": "markdown",
   "id": "38fb2ec6-bb77-4971-b24b-1095b54087e4",
   "metadata": {},
   "source": [
    "## **The FastGreedy Algorithm**"
   ]
  },
  {
   "cell_type": "markdown",
   "id": "b2280507-2abf-44ea-82c7-97144e971b36",
   "metadata": {},
   "source": [
    "Similar to the Louvain algoritmh, the FastGreedy Algorithm uses a bottom-up agglomerative approach, based on optimizing modularity, $M$, to identify community partitions. The advantage of the FastGreedy algorithm lies in its speed, as it was modified with sparse graphs in mind. Sparse graphs are those in which there are far fewer edges observed than edges possible given a set of nodes, and is often a characteristic feature of protein networks. When communities are merged together during the heirarchical clustering process, pairs of rows and columns within the adjacency matrices are merged together, but since many of those rows and columns contain zeros in sparse graphs, much of the computational power allocated to agglomerative algorithms is wasted on the empty regions of the graph. This algorithm improves both memory utilization and speed by altering the data structures such that rather than storing the adjaceny matrix in memory and calculating the $\\Delta M$ each time, it instead stores, and updates a matrix of $\\Delta M$  values, eliminating the storage of any communities that aren't connected by at least one edge. The algorithm also utilizes a data structure to store the largest $\\Delta M$, reducing computational time associated with computing changes in modularity, and allowing for a faster-than-average runtime of essentially O($\\textit{n}$ log$^2$ $\\textit{n}$) for sparse graphs, where n is the number of nodes."
   ]
  },
  {
   "cell_type": "markdown",
   "id": "fd5b2485-3bc4-4d51-9f6e-150b94b22b20",
   "metadata": {
    "tags": []
   },
   "source": [
    "## **The Edge-Betweenness Algorithm**"
   ]
  },
  {
   "cell_type": "markdown",
   "id": "7a500219-11fa-47bb-9bc4-5cf6fca3a673",
   "metadata": {},
   "source": [
    "Unlike in Agglomerative algorithms where the starting assumption is that each node is its own community, divisive algorithms begin with the opposing assumption that the entire network is a community, and systematically removes the links connecting nodes that belong to different communities until the network is broken into its sub-partitions. To accomplish this, these algorithms use a different measure, called centrality to determine which nodes belong to each community.\n",
    "\n",
    "The Edge-Betweenness algorithm, also called the Girvan-Newman Algorithm, systematically prunes edges that are least central, or are most \"between\" communities, until the resulting graph is fully partitioned. The Edge-Betweenness algorithm uses a defintion of centrality described as the number of shortest paths running through the given edge, and serves as measure of the edge's influence over the flow of information in the network. There are four main steps this algorithm carries out and are described as follows.\n",
    "\n",
    "The first step is to calculate the betweeneness for all edges in the network. This calculation can be represented as:"
   ]
  },
  {
   "cell_type": "markdown",
   "id": "65ba49a7-6238-45f7-930e-11498f232648",
   "metadata": {},
   "source": [
    "$$g(\\upsilon) = \\sum_{s\\neq\\upsilon\\neq t} \\frac{\\sigma_{\\textit{st}}(\\upsilon)}{\\sigma_{\\textit{st}}}$$"
   ]
  },
  {
   "cell_type": "markdown",
   "id": "1f6a6aad-4fb6-48ee-895a-453155eccb15",
   "metadata": {},
   "source": [
    "where $\\sigma_{st}$ represents the total number of shortest paths from node $\\textit{s}$ to node $\\textit{t}$ and $\\sigma_{\\textit{st}}$ represents the number of those paths that have an edge passing through node $\\upsilon$. After computing the edge-betweenness value for each node pair in the network, those edges with the highest values are pruned, creating network partitions. The algorithm then recalculates the betweenness centrality for all edges affected by the pruning, and repeats this process of pruning, followed by a recalculation, until no edges remain. On sparse graphs, the algorithm runs in time $O(n^{3})$ due to the computationally difficulty associated with calculating edge-betweenness for each pair of nodes in the network at each iteration, making this algorithm the slowest that we will apply."
   ]
  },
  {
   "cell_type": "markdown",
   "id": "e372c093-e8a6-488f-993e-793944ac865c",
   "metadata": {},
   "source": [
    "## **The WalkTrap Algorithm**"
   ]
  },
  {
   "cell_type": "markdown",
   "id": "9ac18bab-d1c1-4192-8e54-68fb22d57a71",
   "metadata": {},
   "source": [
    " Lastly, we will also implement the WalkTrap Algorithm, which is another hierarchical clustering algorithm. The basic intuition applied in the WalkTrap Algorithm is that random walks from one node to another should get \"trapped\" into densely connected parts corresponding to communities. The algorithm defines a metric $\\textit{r}$ used to measure the similarity of community structure between two nodes. This metric, $\\textit{r}$, is a distance calculated from the set of all probabilities of a random walk connecting node $\\textit{i}$ to node $\\textit{j}$ in $\\textit{t}$ steps, represented as $P_{\\textit{ij}}^{\\textit{t}}$.\n",
    "The resulting value should be high for two nodes within the same community, and low for nodes that in different communities. \n",
    "Using these probabilities as the decisive metric, the algorithm then merges communities in a greedy fashion, based on minimizing the mean of the squared distances between each vertex and its community. This process is then repeated to form graph partitions.  "
   ]
  },
  {
   "cell_type": "markdown",
   "id": "15f3d332-712e-4d9b-a189-5a94d0aecb8c",
   "metadata": {},
   "source": [
    "_____________________________________________________________________________________________________"
   ]
  },
  {
   "cell_type": "markdown",
   "id": "e254a2a7-f6c1-4100-9dd0-9c974bed0da4",
   "metadata": {
    "tags": []
   },
   "source": [
    "# **Community Detection Analysis of the Healthy Network:**"
   ]
  },
  {
   "cell_type": "code",
   "execution_count": null,
   "id": "e2e447eb-3f37-4f92-b464-4f8d7ccb764f",
   "metadata": {
    "tags": []
   },
   "outputs": [],
   "source": [
    "#Code to import all modules used for entire section - just for ease of deployment"
   ]
  },
  {
   "cell_type": "markdown",
   "id": "32d3acbd-042d-4d31-8b70-7f84de2e0374",
   "metadata": {},
   "source": [
    "## Overview:"
   ]
  },
  {
   "cell_type": "markdown",
   "id": "6ee8a0b1-bbf2-4a2b-9ddb-8ffc0e8a60c6",
   "metadata": {},
   "source": [
    "## Here, we will apply and compare the various community detection algorithms to reveal the community structure within our healthy human macrophage protein network."
   ]
  },
  {
   "cell_type": "code",
   "execution_count": 100,
   "id": "7b92b82d-584b-4bd2-a5cf-bb09b45488a3",
   "metadata": {},
   "outputs": [],
   "source": [
    "import networkx as nx\n",
    "import matplotlib.pyplot as plt \n",
    "import community \n",
    "import time\n",
    "from cdlib import algorithms\n",
    "from networkx.algorithms.community import greedy_modularity_communities\n",
    "\n",
    "#import graph\n",
    "file = open(\"../Data/Macrophage_protein_network_with_attributes.pkl\", \"rb\")\n",
    "G = nx.read_gpickle(file)\n"
   ]
  },
  {
   "cell_type": "markdown",
   "id": "a8923d7e-5421-4343-b211-f15b08181522",
   "metadata": {
    "tags": []
   },
   "source": [
    "### **Using the Louvain method:**"
   ]
  },
  {
   "cell_type": "code",
   "execution_count": 113,
   "id": "20d23849-bc1e-481b-a6c5-6c4ef1874050",
   "metadata": {},
   "outputs": [
    {
     "name": "stdout",
     "output_type": "stream",
     "text": [
      "The Louvain algorithm took 0.23 seconds to run\n",
      "The best partition of the louvain algorithm identified 47 communities\n"
     ]
    }
   ],
   "source": [
    "\n",
    "#Running, and timing the algorithm:\n",
    "start = time.time()\n",
    "louvain_partition = community.best_partition(G, random_state=0)  #This object returned is a dictionary containing the nodes of graph G as keys, and the community number that node belongs to as the value\n",
    "end = time.time()\n",
    "louvain_time = (end-start)\n",
    "\n",
    "print(\"The Louvain algorithm took {} seconds to run\".format(round(louvain_time,2)))\n",
    "\n",
    "\n",
    "#Changing structure of dictionary so that keys = community assignment, and values = list of nodes. This will make it easier for later use\n",
    "louvain_best_partition_working = {}\n",
    "for key,value in louvain_partition.items():\n",
    "    if value in louvain_best_partition_working.keys():\n",
    "        louvain_best_partition_working[value].append(key) \n",
    "    else:\n",
    "        louvain_best_partition_working[value] = []    \n",
    "\n",
    "#Sorting dictionary so keys are in ascending order:\n",
    "louvain_best_partition = {}\n",
    "sorted_key_list = list(louvain_best_partition_working.keys())\n",
    "sorted_key_list.sort()\n",
    "\n",
    "for i in sorted_key_list:\n",
    "    louvain_best_partition[i] = louvain_best_partition_working[i]\n",
    "        \n",
    "#Determining how many communities constitute the 'best partition'. i.e how many communities did louvain find?\n",
    "louvain_comm_list = list(louvain_best_partition.keys())\n",
    "print(\"The best partition of the louvain algorithm identified {} communities\".format(len(louvain_comm_list)))"
   ]
  },
  {
   "cell_type": "code",
   "execution_count": 114,
   "id": "35efd309-e202-4edf-8edc-c6327247b5dd",
   "metadata": {},
   "outputs": [
    {
     "data": {
      "image/png": "[encoded data removed]",
      "text/plain": [
       "<Figure size 432x288 with 1 Axes>"
      ]
     },
     "metadata": {
      "needs_background": "light"
     },
     "output_type": "display_data"
    }
   ],
   "source": [
    "#How many nodes are in each community?\n",
    "def Community_distrib(partition):\n",
    "    \"\"\"Function takes a community partition from a community detection algorithm and plots the distribution of nodes across those communities.\"\"\" \n",
    "    \"\"\"Note that the input must be a dictionary with keys=community IDs, and values = list of nodes contained in that community.\"\"\"\n",
    "    community_list = list(partition.keys())\n",
    "    community_list.sort()\n",
    "    node_counts = []\n",
    "    for community in community_list:\n",
    "        node_counts.append(len(partition[community]))\n",
    "    comm_plot = plt.bar(community_list,node_counts)\n",
    "    plt.xlabel(\"Community\")\n",
    "    plt.ylabel(\"Number of Nodes\")\n",
    "    return(comm_plot)\n",
    "\n",
    "Community_distrib(louvain_best_partition);"
   ]
  },
  {
   "cell_type": "code",
   "execution_count": 96,
   "id": "9a24caaf-66b4-46db-833e-4953c3bc06eb",
   "metadata": {},
   "outputs": [
    {
     "name": "stderr",
     "output_type": "stream",
     "text": [
      "No handles with labels found to put in legend.\n",
      "No handles with labels found to put in legend.\n"
     ]
    },
    {
     "data": {
      "image/png": "[encoded data removed]",
      "text/plain": [
       "<Figure size 720x720 with 1 Axes>"
      ]
     },
     "metadata": {},
     "output_type": "display_data"
    }
   ],
   "source": [
    "#Visualzing all communities on one map, coloring nodes by community\n",
    "\n",
    "#set fig dimensions\n",
    "plt.figure(figsize =(10,10))\n",
    "\n",
    "#setting x and y coordinates for nodes and edges\n",
    "pos = nx.spring_layout(G, iterations=20, seed = 15)\n",
    "\n",
    "cmap = [value for key,value in louvain_partition.items()]\n",
    "\n",
    "#Adding nodes\n",
    "nx.draw_networkx_nodes(G, \n",
    "                           pos, \n",
    "                           node_size=30,\n",
    "                           alpha = 0.5,\n",
    "                           nodelist = louvain_partition.keys(), \n",
    "                           node_color = cmap)\n",
    "\n",
    "#Adding edges\n",
    "nx.draw_networkx_edges(G, pos, edgelist=G.edges())\n",
    "\n",
    "#Plot labels\n",
    "name = \"All Louvain Communities, colored by community\"\n",
    "plt.title((name), fontdict = {'fontsize': 25, \"color\":'black'})\n",
    "plt.legend(scatterpoints=1)\n",
    "\n",
    "# Put a legend below current axis\n",
    "plt.legend(scatterpoints =1)\n",
    "\n",
    "plt.show()\n",
    "\n",
    "# NEED TO ADD LEGEND WITH COLORS FOR EACH COMMUNITY"
   ]
  },
  {
   "cell_type": "code",
   "execution_count": 116,
   "id": "6556f495-881f-453f-8e2e-a31ab9bcf83b",
   "metadata": {},
   "outputs": [
    {
     "ename": "ValueError",
     "evalue": "'c' argument must be a color, a sequence of colors, or a sequence of numbers, not ['Photoreceptor inner segment']",
     "output_type": "error",
     "traceback": [
      "\u001b[0;31m---------------------------------------------------------------------------\u001b[0m",
      "\u001b[0;31mValueError\u001b[0m                                Traceback (most recent call last)",
      "\u001b[0;32m~/miniconda3/envs/nx_louvain/lib/python3.9/site-packages/matplotlib/axes/_axes.py\u001b[0m in \u001b[0;36m_parse_scatter_color_args\u001b[0;34m(c, edgecolors, kwargs, xsize, get_next_color_func)\u001b[0m\n\u001b[1;32m   4349\u001b[0m             \u001b[0;32mtry\u001b[0m\u001b[0;34m:\u001b[0m  \u001b[0;31m# Is 'c' acceptable as PathCollection facecolors?\u001b[0m\u001b[0;34m\u001b[0m\u001b[0;34m\u001b[0m\u001b[0m\n\u001b[0;32m-> 4350\u001b[0;31m                 \u001b[0mcolors\u001b[0m \u001b[0;34m=\u001b[0m \u001b[0mmcolors\u001b[0m\u001b[0;34m.\u001b[0m\u001b[0mto_rgba_array\u001b[0m\u001b[0;34m(\u001b[0m\u001b[0mc\u001b[0m\u001b[0;34m)\u001b[0m\u001b[0;34m\u001b[0m\u001b[0;34m\u001b[0m\u001b[0m\n\u001b[0m\u001b[1;32m   4351\u001b[0m             \u001b[0;32mexcept\u001b[0m \u001b[0;34m(\u001b[0m\u001b[0mTypeError\u001b[0m\u001b[0;34m,\u001b[0m \u001b[0mValueError\u001b[0m\u001b[0;34m)\u001b[0m \u001b[0;32mas\u001b[0m \u001b[0merr\u001b[0m\u001b[0;34m:\u001b[0m\u001b[0;34m\u001b[0m\u001b[0;34m\u001b[0m\u001b[0m\n",
      "\u001b[0;32m~/miniconda3/envs/nx_louvain/lib/python3.9/site-packages/matplotlib/colors.py\u001b[0m in \u001b[0;36mto_rgba_array\u001b[0;34m(c, alpha)\u001b[0m\n\u001b[1;32m    382\u001b[0m         \u001b[0;32melse\u001b[0m\u001b[0;34m:\u001b[0m\u001b[0;34m\u001b[0m\u001b[0;34m\u001b[0m\u001b[0m\n\u001b[0;32m--> 383\u001b[0;31m             \u001b[0mrgba\u001b[0m \u001b[0;34m=\u001b[0m \u001b[0mnp\u001b[0m\u001b[0;34m.\u001b[0m\u001b[0marray\u001b[0m\u001b[0;34m(\u001b[0m\u001b[0;34m[\u001b[0m\u001b[0mto_rgba\u001b[0m\u001b[0;34m(\u001b[0m\u001b[0mcc\u001b[0m\u001b[0;34m)\u001b[0m \u001b[0;32mfor\u001b[0m \u001b[0mcc\u001b[0m \u001b[0;32min\u001b[0m \u001b[0mc\u001b[0m\u001b[0;34m]\u001b[0m\u001b[0;34m)\u001b[0m\u001b[0;34m\u001b[0m\u001b[0;34m\u001b[0m\u001b[0m\n\u001b[0m\u001b[1;32m    384\u001b[0m     \u001b[0;32melse\u001b[0m\u001b[0;34m:\u001b[0m\u001b[0;34m\u001b[0m\u001b[0;34m\u001b[0m\u001b[0m\n",
      "\u001b[0;32m~/miniconda3/envs/nx_louvain/lib/python3.9/site-packages/matplotlib/colors.py\u001b[0m in \u001b[0;36m<listcomp>\u001b[0;34m(.0)\u001b[0m\n\u001b[1;32m    382\u001b[0m         \u001b[0;32melse\u001b[0m\u001b[0;34m:\u001b[0m\u001b[0;34m\u001b[0m\u001b[0;34m\u001b[0m\u001b[0m\n\u001b[0;32m--> 383\u001b[0;31m             \u001b[0mrgba\u001b[0m \u001b[0;34m=\u001b[0m \u001b[0mnp\u001b[0m\u001b[0;34m.\u001b[0m\u001b[0marray\u001b[0m\u001b[0;34m(\u001b[0m\u001b[0;34m[\u001b[0m\u001b[0mto_rgba\u001b[0m\u001b[0;34m(\u001b[0m\u001b[0mcc\u001b[0m\u001b[0;34m)\u001b[0m \u001b[0;32mfor\u001b[0m \u001b[0mcc\u001b[0m \u001b[0;32min\u001b[0m \u001b[0mc\u001b[0m\u001b[0;34m]\u001b[0m\u001b[0;34m)\u001b[0m\u001b[0;34m\u001b[0m\u001b[0;34m\u001b[0m\u001b[0m\n\u001b[0m\u001b[1;32m    384\u001b[0m     \u001b[0;32melse\u001b[0m\u001b[0;34m:\u001b[0m\u001b[0;34m\u001b[0m\u001b[0;34m\u001b[0m\u001b[0m\n",
      "\u001b[0;32m~/miniconda3/envs/nx_louvain/lib/python3.9/site-packages/matplotlib/colors.py\u001b[0m in \u001b[0;36mto_rgba\u001b[0;34m(c, alpha)\u001b[0m\n\u001b[1;32m    205\u001b[0m     \u001b[0;32mif\u001b[0m \u001b[0mrgba\u001b[0m \u001b[0;32mis\u001b[0m \u001b[0;32mNone\u001b[0m\u001b[0;34m:\u001b[0m  \u001b[0;31m# Suppress exception chaining of cache lookup failure.\u001b[0m\u001b[0;34m\u001b[0m\u001b[0;34m\u001b[0m\u001b[0m\n\u001b[0;32m--> 206\u001b[0;31m         \u001b[0mrgba\u001b[0m \u001b[0;34m=\u001b[0m \u001b[0m_to_rgba_no_colorcycle\u001b[0m\u001b[0;34m(\u001b[0m\u001b[0mc\u001b[0m\u001b[0;34m,\u001b[0m \u001b[0malpha\u001b[0m\u001b[0;34m)\u001b[0m\u001b[0;34m\u001b[0m\u001b[0;34m\u001b[0m\u001b[0m\n\u001b[0m\u001b[1;32m    207\u001b[0m         \u001b[0;32mtry\u001b[0m\u001b[0;34m:\u001b[0m\u001b[0;34m\u001b[0m\u001b[0;34m\u001b[0m\u001b[0m\n",
      "\u001b[0;32m~/miniconda3/envs/nx_louvain/lib/python3.9/site-packages/matplotlib/colors.py\u001b[0m in \u001b[0;36m_to_rgba_no_colorcycle\u001b[0;34m(c, alpha)\u001b[0m\n\u001b[1;32m    276\u001b[0m             \u001b[0;32mreturn\u001b[0m \u001b[0mc\u001b[0m\u001b[0;34m,\u001b[0m \u001b[0mc\u001b[0m\u001b[0;34m,\u001b[0m \u001b[0mc\u001b[0m\u001b[0;34m,\u001b[0m \u001b[0malpha\u001b[0m \u001b[0;32mif\u001b[0m \u001b[0malpha\u001b[0m \u001b[0;32mis\u001b[0m \u001b[0;32mnot\u001b[0m \u001b[0;32mNone\u001b[0m \u001b[0;32melse\u001b[0m \u001b[0;36m1.\u001b[0m\u001b[0;34m\u001b[0m\u001b[0;34m\u001b[0m\u001b[0m\n\u001b[0;32m--> 277\u001b[0;31m         \u001b[0;32mraise\u001b[0m \u001b[0mValueError\u001b[0m\u001b[0;34m(\u001b[0m\u001b[0;34mf\"Invalid RGBA argument: {orig_c!r}\"\u001b[0m\u001b[0;34m)\u001b[0m\u001b[0;34m\u001b[0m\u001b[0;34m\u001b[0m\u001b[0m\n\u001b[0m\u001b[1;32m    278\u001b[0m     \u001b[0;31m# turn 2-D array into 1-D array\u001b[0m\u001b[0;34m\u001b[0m\u001b[0;34m\u001b[0m\u001b[0;34m\u001b[0m\u001b[0m\n",
      "\u001b[0;31mValueError\u001b[0m: Invalid RGBA argument: 'Photoreceptor inner segment'",
      "\nThe above exception was the direct cause of the following exception:\n",
      "\u001b[0;31mValueError\u001b[0m                                Traceback (most recent call last)",
      "\u001b[0;32m/tmp/ipykernel_19721/2370532750.py\u001b[0m in \u001b[0;36m<module>\u001b[0;34m\u001b[0m\n\u001b[1;32m     13\u001b[0m \u001b[0;34m\u001b[0m\u001b[0m\n\u001b[1;32m     14\u001b[0m     \u001b[0;31m#Draw out neighborhood nodes of central node\u001b[0m\u001b[0;34m\u001b[0m\u001b[0;34m\u001b[0m\u001b[0;34m\u001b[0m\u001b[0m\n\u001b[0;32m---> 15\u001b[0;31m     nx.draw_networkx_nodes(G, \n\u001b[0m\u001b[1;32m     16\u001b[0m                            \u001b[0mpos\u001b[0m\u001b[0;34m,\u001b[0m\u001b[0;34m\u001b[0m\u001b[0;34m\u001b[0m\u001b[0m\n\u001b[1;32m     17\u001b[0m                            \u001b[0mnode_size\u001b[0m\u001b[0;34m=\u001b[0m\u001b[0;36m30\u001b[0m\u001b[0;34m,\u001b[0m\u001b[0;34m\u001b[0m\u001b[0;34m\u001b[0m\u001b[0m\n",
      "\u001b[0;32m~/miniconda3/envs/nx_louvain/lib/python3.9/site-packages/networkx/drawing/nx_pylab.py\u001b[0m in \u001b[0;36mdraw_networkx_nodes\u001b[0;34m(G, pos, nodelist, node_size, node_color, node_shape, alpha, cmap, vmin, vmax, ax, linewidths, edgecolors, label, margins)\u001b[0m\n\u001b[1;32m    460\u001b[0m         \u001b[0malpha\u001b[0m \u001b[0;34m=\u001b[0m \u001b[0;32mNone\u001b[0m\u001b[0;34m\u001b[0m\u001b[0;34m\u001b[0m\u001b[0m\n\u001b[1;32m    461\u001b[0m \u001b[0;34m\u001b[0m\u001b[0m\n\u001b[0;32m--> 462\u001b[0;31m     node_collection = ax.scatter(\n\u001b[0m\u001b[1;32m    463\u001b[0m         \u001b[0mxy\u001b[0m\u001b[0;34m[\u001b[0m\u001b[0;34m:\u001b[0m\u001b[0;34m,\u001b[0m \u001b[0;36m0\u001b[0m\u001b[0;34m]\u001b[0m\u001b[0;34m,\u001b[0m\u001b[0;34m\u001b[0m\u001b[0;34m\u001b[0m\u001b[0m\n\u001b[1;32m    464\u001b[0m         \u001b[0mxy\u001b[0m\u001b[0;34m[\u001b[0m\u001b[0;34m:\u001b[0m\u001b[0;34m,\u001b[0m \u001b[0;36m1\u001b[0m\u001b[0;34m]\u001b[0m\u001b[0;34m,\u001b[0m\u001b[0;34m\u001b[0m\u001b[0;34m\u001b[0m\u001b[0m\n",
      "\u001b[0;32m~/miniconda3/envs/nx_louvain/lib/python3.9/site-packages/matplotlib/__init__.py\u001b[0m in \u001b[0;36minner\u001b[0;34m(ax, data, *args, **kwargs)\u001b[0m\n\u001b[1;32m   1359\u001b[0m     \u001b[0;32mdef\u001b[0m \u001b[0minner\u001b[0m\u001b[0;34m(\u001b[0m\u001b[0max\u001b[0m\u001b[0;34m,\u001b[0m \u001b[0;34m*\u001b[0m\u001b[0margs\u001b[0m\u001b[0;34m,\u001b[0m \u001b[0mdata\u001b[0m\u001b[0;34m=\u001b[0m\u001b[0;32mNone\u001b[0m\u001b[0;34m,\u001b[0m \u001b[0;34m**\u001b[0m\u001b[0mkwargs\u001b[0m\u001b[0;34m)\u001b[0m\u001b[0;34m:\u001b[0m\u001b[0;34m\u001b[0m\u001b[0;34m\u001b[0m\u001b[0m\n\u001b[1;32m   1360\u001b[0m         \u001b[0;32mif\u001b[0m \u001b[0mdata\u001b[0m \u001b[0;32mis\u001b[0m \u001b[0;32mNone\u001b[0m\u001b[0;34m:\u001b[0m\u001b[0;34m\u001b[0m\u001b[0;34m\u001b[0m\u001b[0m\n\u001b[0;32m-> 1361\u001b[0;31m             \u001b[0;32mreturn\u001b[0m \u001b[0mfunc\u001b[0m\u001b[0;34m(\u001b[0m\u001b[0max\u001b[0m\u001b[0;34m,\u001b[0m \u001b[0;34m*\u001b[0m\u001b[0mmap\u001b[0m\u001b[0;34m(\u001b[0m\u001b[0msanitize_sequence\u001b[0m\u001b[0;34m,\u001b[0m \u001b[0margs\u001b[0m\u001b[0;34m)\u001b[0m\u001b[0;34m,\u001b[0m \u001b[0;34m**\u001b[0m\u001b[0mkwargs\u001b[0m\u001b[0;34m)\u001b[0m\u001b[0;34m\u001b[0m\u001b[0;34m\u001b[0m\u001b[0m\n\u001b[0m\u001b[1;32m   1362\u001b[0m \u001b[0;34m\u001b[0m\u001b[0m\n\u001b[1;32m   1363\u001b[0m         \u001b[0mbound\u001b[0m \u001b[0;34m=\u001b[0m \u001b[0mnew_sig\u001b[0m\u001b[0;34m.\u001b[0m\u001b[0mbind\u001b[0m\u001b[0;34m(\u001b[0m\u001b[0max\u001b[0m\u001b[0;34m,\u001b[0m \u001b[0;34m*\u001b[0m\u001b[0margs\u001b[0m\u001b[0;34m,\u001b[0m \u001b[0;34m**\u001b[0m\u001b[0mkwargs\u001b[0m\u001b[0;34m)\u001b[0m\u001b[0;34m\u001b[0m\u001b[0;34m\u001b[0m\u001b[0m\n",
      "\u001b[0;32m~/miniconda3/envs/nx_louvain/lib/python3.9/site-packages/matplotlib/axes/_axes.py\u001b[0m in \u001b[0;36mscatter\u001b[0;34m(self, x, y, s, c, marker, cmap, norm, vmin, vmax, alpha, linewidths, edgecolors, plotnonfinite, **kwargs)\u001b[0m\n\u001b[1;32m   4514\u001b[0m             \u001b[0morig_edgecolor\u001b[0m \u001b[0;34m=\u001b[0m \u001b[0mkwargs\u001b[0m\u001b[0;34m.\u001b[0m\u001b[0mget\u001b[0m\u001b[0;34m(\u001b[0m\u001b[0;34m'edgecolor'\u001b[0m\u001b[0;34m,\u001b[0m \u001b[0;32mNone\u001b[0m\u001b[0;34m)\u001b[0m\u001b[0;34m\u001b[0m\u001b[0;34m\u001b[0m\u001b[0m\n\u001b[1;32m   4515\u001b[0m         \u001b[0mc\u001b[0m\u001b[0;34m,\u001b[0m \u001b[0mcolors\u001b[0m\u001b[0;34m,\u001b[0m \u001b[0medgecolors\u001b[0m \u001b[0;34m=\u001b[0m\u001b[0;31m \u001b[0m\u001b[0;31m\\\u001b[0m\u001b[0;34m\u001b[0m\u001b[0;34m\u001b[0m\u001b[0m\n\u001b[0;32m-> 4516\u001b[0;31m             self._parse_scatter_color_args(\n\u001b[0m\u001b[1;32m   4517\u001b[0m                 \u001b[0mc\u001b[0m\u001b[0;34m,\u001b[0m \u001b[0medgecolors\u001b[0m\u001b[0;34m,\u001b[0m \u001b[0mkwargs\u001b[0m\u001b[0;34m,\u001b[0m \u001b[0mx\u001b[0m\u001b[0;34m.\u001b[0m\u001b[0msize\u001b[0m\u001b[0;34m,\u001b[0m\u001b[0;34m\u001b[0m\u001b[0;34m\u001b[0m\u001b[0m\n\u001b[1;32m   4518\u001b[0m                 get_next_color_func=self._get_patches_for_fill.get_next_color)\n",
      "\u001b[0;32m~/miniconda3/envs/nx_louvain/lib/python3.9/site-packages/matplotlib/axes/_axes.py\u001b[0m in \u001b[0;36m_parse_scatter_color_args\u001b[0;34m(c, edgecolors, kwargs, xsize, get_next_color_func)\u001b[0m\n\u001b[1;32m   4357\u001b[0m                     \u001b[0;31m# Both the mapping *and* the RGBA conversion failed: pretty\u001b[0m\u001b[0;34m\u001b[0m\u001b[0;34m\u001b[0m\u001b[0;34m\u001b[0m\u001b[0m\n\u001b[1;32m   4358\u001b[0m                     \u001b[0;31m# severe failure => one may appreciate a verbose feedback.\u001b[0m\u001b[0;34m\u001b[0m\u001b[0;34m\u001b[0m\u001b[0;34m\u001b[0m\u001b[0m\n\u001b[0;32m-> 4359\u001b[0;31m                     raise ValueError(\n\u001b[0m\u001b[1;32m   4360\u001b[0m                         \u001b[0;34mf\"'c' argument must be a color, a sequence of colors, \"\u001b[0m\u001b[0;34m\u001b[0m\u001b[0;34m\u001b[0m\u001b[0m\n\u001b[1;32m   4361\u001b[0m                         f\"or a sequence of numbers, not {c}\") from err\n",
      "\u001b[0;31mValueError\u001b[0m: 'c' argument must be a color, a sequence of colors, or a sequence of numbers, not ['Photoreceptor inner segment']"
     ]
    },
    {
     "data": {
      "image/png": "[encoded data removed]",
      "text/plain": [
       "<Figure size 360x360 with 1 Axes>"
      ]
     },
     "metadata": {
      "needs_background": "light"
     },
     "output_type": "display_data"
    }
   ],
   "source": [
    "#Create subplots for each community, to visualize each\n",
    "\n",
    "for community in louvain_best_partition:\n",
    "    \n",
    "    #set fig dimensions\n",
    "    plt.figure(figsize =(5,5))\n",
    "\n",
    "    #setting x and y coordinates for nodes and edges\n",
    "    pos = nx.spring_layout(G, iterations=20, seed = 15)\n",
    "    \n",
    "    #set color map by subcell location\n",
    "    cmap = []\n",
    "    for node in louvain_best_partition[community]:\n",
    "        G.nodes[node]['Subcellular_location_[CC]']\n",
    "    \n",
    "    #Draw out neighborhood nodes of central node\n",
    "    nx.draw_networkx_nodes(G, \n",
    "                           pos, \n",
    "                           node_size=30,\n",
    "                           alpha = 0.5,\n",
    "                           nodelist = louvain_best_partition[community], \n",
    "                           node_color = cmap)\n",
    "\n",
    "\n",
    "    #Pull edges from main Graph that correspond to nodes in the neighborhood\n",
    "    edge_list = []\n",
    "    for edge in G.edges():\n",
    "        if (edge[0] in louvain_best_partition[community]) and (edge[1] in louvain_best_partition[community]):\n",
    "            edge_list.append(edge)\n",
    "        \n",
    "\n",
    "    #Draw Edges        \n",
    "    nx.draw_networkx_edges(G,pos, edgelist=edge_list)\n",
    "    \n",
    "    #Plot Labels\n",
    "    name = \"Community #: \" + str(community)\n",
    "    plt.title((name), fontdict = {'fontsize': 25, \"color\":'black'})\n",
    "    plt.legend(scatterpoints=1)\n",
    "    \n",
    "    plt.show()\n",
    "    \n",
    "    \n",
    "#Hardcode a dictionary with color values to reference\n",
    "#within each communitt, what are the central nodes "
   ]
  },
  {
   "cell_type": "markdown",
   "id": "47dd001f-7ea0-411e-b814-48007c420831",
   "metadata": {
    "tags": []
   },
   "source": [
    "### **Using the FastGreedy method:**"
   ]
  },
  {
   "cell_type": "code",
   "execution_count": 77,
   "id": "5d1184fc-1702-4e04-b105-53da84c95db6",
   "metadata": {},
   "outputs": [
    {
     "name": "stdout",
     "output_type": "stream",
     "text": [
      "The FastGreedy algorithm took 2.65 seconds to run\n",
      "The FastGreedy algorithm identified 49 communities\n"
     ]
    }
   ],
   "source": [
    "#Running and timing the algorithm:\n",
    "start = time.time()\n",
    "FastGreedy_partition = list(greedy_modularity_communities(G)) #The object returned is a list of sets of nodes, each for a different community\n",
    "end = time.time()\n",
    "FastGreedy_time = (end-start)\n",
    "\n",
    "print(\"The FastGreedy algorithm took {} seconds to run\".format(round(FastGreedy_time,2)))\n",
    "\n",
    "#How many communities did the FastGreedy Algorithm find?\n",
    "print(\"The FastGreedy algorithm identified {} communities\".format(len(FastGreedy_partition)))"
   ]
  },
  {
   "cell_type": "code",
   "execution_count": 78,
   "id": "dbd45cfd-43f9-4cc2-a3bc-15a6150c2384",
   "metadata": {},
   "outputs": [
    {
     "data": {
      "text/plain": [
       "<BarContainer object of 49 artists>"
      ]
     },
     "execution_count": 78,
     "metadata": {},
     "output_type": "execute_result"
    },
    {
     "data": {
      "image/png": "[encoded data removed]",
      "text/plain": [
       "<Figure size 432x288 with 1 Axes>"
      ]
     },
     "metadata": {
      "needs_background": "light"
     },
     "output_type": "display_data"
    }
   ],
   "source": [
    "#How many nodes are in each community?\n",
    "def FastGreedy_plotter(partition):\n",
    "    \"\"\"Function takes a list of sets of nodes outputted by FastGreedy\"\"\" \n",
    "    \"\"\"Modularity algorithm and returns a plot of the distribution of the number of nodes in each community\"\"\"\n",
    "    comm_list = []\n",
    "    node_counts = []\n",
    "    counter = 0\n",
    "    for nodeset in FastGreedy_partition:\n",
    "        comm_list.append(counter)\n",
    "        node_counts.append(len(nodeset))\n",
    "        counter+=1\n",
    "    comm_plot = plt.bar(comm_list,node_counts)\n",
    "    plt.xlabel(\"Community\")\n",
    "    plt.ylabel(\"Number of Nodes\")\n",
    "    return(comm_plot)\n",
    "FastGreedy_plotter(FastGreedy_partition)"
   ]
  },
  {
   "cell_type": "markdown",
   "id": "52539111-b6a9-4919-8f83-06c9ddd069bb",
   "metadata": {},
   "source": [
    "Need to explore each community, visualize it and its neighbors, etc. Need to figure out how to color by node given messiness of attributes"
   ]
  },
  {
   "cell_type": "markdown",
   "id": "5951857f-ac85-4df1-9d13-163d60af863c",
   "metadata": {
    "tags": []
   },
   "source": [
    "### **Using the WalkTrap method:**"
   ]
  },
  {
   "cell_type": "code",
   "execution_count": 80,
   "id": "a3fbd06e-1b64-4bd9-9b7f-e64207a6a4c7",
   "metadata": {},
   "outputs": [
    {
     "name": "stdout",
     "output_type": "stream",
     "text": [
      "The WalkTrap algorithm took 0.3 seconds to run\n"
     ]
    }
   ],
   "source": [
    "#Running and timing the algorithm\n",
    "start = time.time()\n",
    "WalkTrap_partition = algorithms.walktrap(G) #The object returned is a NodeClusterint object\n",
    "end = time.time()\n",
    "WalkTrap_time = (end-start)\n",
    "\n",
    "print(\"The WalkTrap algorithm took {} seconds to run\".format(round(WalkTrap_time,2)))"
   ]
  },
  {
   "cell_type": "code",
   "execution_count": 36,
   "id": "12a8be88-3711-4c4f-9a0f-69e061822132",
   "metadata": {},
   "outputs": [
    {
     "name": "stdout",
     "output_type": "stream",
     "text": [
      "<cdlib.classes.node_clustering.NodeClustering object at 0x7f84c858f6d0>\n"
     ]
    }
   ],
   "source": [
    "print(WalkTrap_partition)"
   ]
  },
  {
   "cell_type": "markdown",
   "id": "3b632f0c-510b-4d02-85ff-b5fd8ef1e66c",
   "metadata": {},
   "source": [
    "Need to figure out how to work with nodeclustering objects"
   ]
  },
  {
   "cell_type": "markdown",
   "id": "64dae530-4e4c-438c-b80c-4df597704a7f",
   "metadata": {
    "tags": []
   },
   "source": [
    "### **Using the Edge-Betweenness method:**"
   ]
  },
  {
   "cell_type": "code",
   "execution_count": 81,
   "id": "38fcd6cb-841a-4f96-9f19-88d46e861d76",
   "metadata": {},
   "outputs": [
    {
     "name": "stdout",
     "output_type": "stream",
     "text": [
      "The WalkTrap algorithm took 12.12 minutes to run\n"
     ]
    }
   ],
   "source": [
    "#Running and timing the algorithm\n",
    "start = time.time()\n",
    "EdgeBetweenness_partition = algorithms.girvan_newman(G,level=1,) #The object returned is a list of sets of nodes, each for a different community\n",
    "end = time.time()\n",
    "EdgeBetweenness_time = (end-start)/60\n",
    "\n",
    "print(\"The WalkTrap algorithm took {} minutes to run\".format(round(EdgeBetweenness_time,2)))"
   ]
  },
  {
   "cell_type": "code",
   "execution_count": 82,
   "id": "4753d90d-a368-4af3-b8e8-d384265fbea8",
   "metadata": {},
   "outputs": [
    {
     "name": "stdout",
     "output_type": "stream",
     "text": [
      "<cdlib.classes.node_clustering.NodeClustering object at 0x7fe65a1f8400>\n"
     ]
    }
   ],
   "source": [
    "print(EdgeBetweenness_partition)"
   ]
  },
  {
   "cell_type": "markdown",
   "id": "60028c50-558d-4c4d-aaa1-9df0afcb9c6b",
   "metadata": {},
   "source": [
    "important takeaways"
   ]
  },
  {
   "cell_type": "markdown",
   "id": "0f028ed1-04d9-4831-9cbc-b1180b7307d0",
   "metadata": {},
   "source": [
    "## Comparing Methods"
   ]
  },
  {
   "cell_type": "code",
   "execution_count": null,
   "id": "7ae7891d-ff11-4a83-94a7-db454ed5809f",
   "metadata": {},
   "outputs": [],
   "source": [
    "#code for comparing and talking about differences"
   ]
  },
  {
   "cell_type": "markdown",
   "id": "3b6b2aa6-d52d-4e53-9691-4603d21b7689",
   "metadata": {},
   "source": [
    "## Overall Conclusions"
   ]
  },
  {
   "cell_type": "markdown",
   "id": "2ac6eb59-9091-4e24-b5a3-83135c06ee71",
   "metadata": {
    "tags": []
   },
   "source": [
    "Comment on Patterns observed across all three, consistencies, deviations, key things to mention"
   ]
  },
  {
   "cell_type": "markdown",
   "id": "be9a44f3-ae4e-4018-9ac0-5e01ff31ba6d",
   "metadata": {},
   "source": [
    "_________________________________________________________________________________"
   ]
  },
  {
   "cell_type": "markdown",
   "id": "70a4797d-1709-44d8-ae13-ecd4e32e7610",
   "metadata": {
    "jp-MarkdownHeadingCollapsed": true,
    "tags": []
   },
   "source": [
    "# **Community Detection Analysis of the Diseased Network:**"
   ]
  },
  {
   "cell_type": "code",
   "execution_count": null,
   "id": "3bb9a570-5d19-4311-92ff-2984c1e6d5ce",
   "metadata": {
    "tags": []
   },
   "outputs": [],
   "source": [
    "#Code to import all modules used for entire section - just for ease of deployment"
   ]
  },
  {
   "cell_type": "markdown",
   "id": "54fac545-7730-4edd-91e6-c245bf6f2f06",
   "metadata": {},
   "source": [
    "## Overview:"
   ]
  },
  {
   "cell_type": "markdown",
   "id": "be97183e-00c7-4fd3-84e3-c0b60ffd0b8b",
   "metadata": {},
   "source": [
    "Overall goal here for this first analysis"
   ]
  },
  {
   "cell_type": "markdown",
   "id": "86118bf7-b547-4346-b325-aaf1e131854e",
   "metadata": {
    "tags": []
   },
   "source": [
    "### **Using the Louvain method:**"
   ]
  },
  {
   "cell_type": "code",
   "execution_count": null,
   "id": "01a22629-b2f4-4608-8bdd-3aa280982399",
   "metadata": {},
   "outputs": [],
   "source": [
    "#code here, explore and talk about biological relevance of communities"
   ]
  },
  {
   "cell_type": "markdown",
   "id": "7a37f04d-5487-4dc2-9a0e-b571353c1aef",
   "metadata": {},
   "source": [
    "important takeaways"
   ]
  },
  {
   "cell_type": "markdown",
   "id": "8f5a552e-d099-4640-b37f-96db1f5cffe0",
   "metadata": {
    "tags": []
   },
   "source": [
    "### **Using the FastGreedy method:**"
   ]
  },
  {
   "cell_type": "code",
   "execution_count": null,
   "id": "2ed53485-9d0b-4c92-8f74-359636f9128b",
   "metadata": {},
   "outputs": [],
   "source": [
    "#code here, explore and talk about biological relevance of communities"
   ]
  },
  {
   "cell_type": "markdown",
   "id": "27304d4d-ff4b-41bc-9f33-bbd9d522cddb",
   "metadata": {},
   "source": [
    "Important takeaways"
   ]
  },
  {
   "cell_type": "markdown",
   "id": "bd797250-f067-4237-aee7-4fe08b02aa22",
   "metadata": {
    "tags": []
   },
   "source": [
    "### **Using the WalkTrap method:**"
   ]
  },
  {
   "cell_type": "code",
   "execution_count": null,
   "id": "659e2466-cf01-4197-8a96-47d1385da28e",
   "metadata": {},
   "outputs": [],
   "source": [
    "#code here, explore and talk about biological relevance of communities"
   ]
  },
  {
   "cell_type": "markdown",
   "id": "6816f8b2-585a-4e05-a6d0-928788b253e9",
   "metadata": {},
   "source": [
    "important takeaways"
   ]
  },
  {
   "cell_type": "markdown",
   "id": "f0f1983b-0dba-4563-b4b4-ce77b2cc1850",
   "metadata": {
    "tags": []
   },
   "source": [
    "### **Using the Edge-Betweenness method:**"
   ]
  },
  {
   "cell_type": "code",
   "execution_count": null,
   "id": "60c4ecf8-5296-477d-ba20-fe2de0e9a7e4",
   "metadata": {},
   "outputs": [],
   "source": [
    "#code here, explore and talk about biological relevance of communities"
   ]
  },
  {
   "cell_type": "markdown",
   "id": "2e018e94-3414-4c2f-8a48-4e2bfc709bad",
   "metadata": {},
   "source": [
    "important takeaways"
   ]
  },
  {
   "cell_type": "markdown",
   "id": "b338a0f5-c03e-4db5-9b04-bc05a3fe290d",
   "metadata": {},
   "source": [
    "## Comparing Methods"
   ]
  },
  {
   "cell_type": "code",
   "execution_count": null,
   "id": "62b9849b-884b-446f-ac62-9b2d32678f79",
   "metadata": {},
   "outputs": [],
   "source": [
    "#code for comparing and talking about differences"
   ]
  },
  {
   "cell_type": "markdown",
   "id": "9d8ddc90-cbcc-4fc8-a708-427a395991b0",
   "metadata": {},
   "source": [
    "## Overall Conclusions"
   ]
  },
  {
   "cell_type": "markdown",
   "id": "e410b5e1-d598-4b39-8c79-ff910d860b27",
   "metadata": {
    "tags": []
   },
   "source": [
    "Comment on Patterns observed across all three, consistencies, deviations, key things to mention"
   ]
  },
  {
   "cell_type": "markdown",
   "id": "6da6b346-7ef2-4186-9098-db6600fb71fe",
   "metadata": {},
   "source": [
    "_________________________________________________________________________________"
   ]
  },
  {
   "cell_type": "markdown",
   "id": "6f5c5900-fe80-46c5-b10d-bad5b81ab8cf",
   "metadata": {
    "jp-MarkdownHeadingCollapsed": true,
    "tags": []
   },
   "source": [
    "# **Community Detection Analysis of the Healthy Sub-Network:**"
   ]
  },
  {
   "cell_type": "code",
   "execution_count": null,
   "id": "778f1bc7-5949-4384-9701-1a99c8432bbf",
   "metadata": {
    "tags": []
   },
   "outputs": [],
   "source": [
    "#Code to import all modules used for entire section - just for ease of deployment"
   ]
  },
  {
   "cell_type": "markdown",
   "id": "fcb1265e-eeaa-4922-b3b9-39be95bc54a2",
   "metadata": {},
   "source": [
    "## Overview:"
   ]
  },
  {
   "cell_type": "markdown",
   "id": "f0964360-c3de-4e7b-a130-5f16b4e9990c",
   "metadata": {},
   "source": [
    "Overall goal here for this first analysis"
   ]
  },
  {
   "cell_type": "markdown",
   "id": "545f32ff-62b4-4cbc-86ad-c2f284196f5b",
   "metadata": {
    "tags": []
   },
   "source": [
    "### **Using the Louvain method:**"
   ]
  },
  {
   "cell_type": "code",
   "execution_count": null,
   "id": "8b0f2fdf-d853-48d6-a5e5-8bb265954e2f",
   "metadata": {},
   "outputs": [],
   "source": [
    "#code here, explore and talk about biological relevance of communities"
   ]
  },
  {
   "cell_type": "markdown",
   "id": "18ed2e61-8eb1-4449-beef-160ef419ee01",
   "metadata": {},
   "source": [
    "important takeaways"
   ]
  },
  {
   "cell_type": "markdown",
   "id": "ccb9d759-b67b-47b6-affb-3d7f4c9dc0de",
   "metadata": {
    "tags": []
   },
   "source": [
    "### **Using the FastGreedy method:**"
   ]
  },
  {
   "cell_type": "code",
   "execution_count": null,
   "id": "2862c435-ec0d-4043-a475-9a915cdbef44",
   "metadata": {},
   "outputs": [],
   "source": [
    "#code here, explore and talk about biological relevance of communities"
   ]
  },
  {
   "cell_type": "markdown",
   "id": "c77be6e6-91ee-4c0d-aec3-0a67de282fc2",
   "metadata": {},
   "source": [
    "Important takeaways"
   ]
  },
  {
   "cell_type": "markdown",
   "id": "ee755a23-7f9c-4aba-bb61-c09fac1e4ed2",
   "metadata": {
    "tags": []
   },
   "source": [
    "### **Using the WalkTrap method:**"
   ]
  },
  {
   "cell_type": "code",
   "execution_count": null,
   "id": "a092435c-825e-4aa4-86ab-09537d503931",
   "metadata": {},
   "outputs": [],
   "source": [
    "#code here, explore and talk about biological relevance of communities"
   ]
  },
  {
   "cell_type": "markdown",
   "id": "f13a3e75-13ff-445b-93e5-4b12b2ab1d8e",
   "metadata": {},
   "source": [
    "important takeaways"
   ]
  },
  {
   "cell_type": "markdown",
   "id": "538f3479-20f1-4c87-a768-ad3ce95dd880",
   "metadata": {
    "tags": []
   },
   "source": [
    "### **Using the Edge-Betweenness method:**"
   ]
  },
  {
   "cell_type": "code",
   "execution_count": null,
   "id": "02b7dd2c-cc48-48c8-830e-83f2d0c112da",
   "metadata": {},
   "outputs": [],
   "source": [
    "#code here, explore and talk about biological relevance of communities"
   ]
  },
  {
   "cell_type": "markdown",
   "id": "30105dfc-e805-416d-9e72-35bb1d499687",
   "metadata": {},
   "source": [
    "important takeaways"
   ]
  },
  {
   "cell_type": "markdown",
   "id": "8bfa8f8d-617a-4223-bc3c-842d84a5054c",
   "metadata": {},
   "source": [
    "## Comparing Methods"
   ]
  },
  {
   "cell_type": "code",
   "execution_count": 23,
   "id": "fa85f391-7015-4641-a93a-626b212a29c8",
   "metadata": {},
   "outputs": [],
   "source": [
    "#code for comparing and talking about differences"
   ]
  },
  {
   "cell_type": "markdown",
   "id": "52720a32-1cd3-4320-bdee-9541c0c5f09e",
   "metadata": {},
   "source": [
    "## Overall Conclusions"
   ]
  },
  {
   "cell_type": "markdown",
   "id": "b5512ba8-888e-43c1-a2c2-c0635cdba92d",
   "metadata": {
    "tags": []
   },
   "source": [
    "Comment on Patterns observed across all three, consistencies, deviations, key things to mention"
   ]
  },
  {
   "cell_type": "markdown",
   "id": "ad7b34c3-f5c2-4874-b955-4add9836d82e",
   "metadata": {},
   "source": [
    "_________________________________________________________________________________"
   ]
  },
  {
   "cell_type": "markdown",
   "id": "2aa110fd-6186-45e8-a515-005a61fd7f6f",
   "metadata": {
    "jp-MarkdownHeadingCollapsed": true,
    "tags": []
   },
   "source": [
    "# **Community Detection Analysis of the Diseased Sub-Network:**"
   ]
  },
  {
   "cell_type": "code",
   "execution_count": 24,
   "id": "5c32629e-7d48-4637-b9d6-75820b7c524c",
   "metadata": {
    "tags": []
   },
   "outputs": [],
   "source": [
    "#Code to import all modules used for entire section - just for ease of deployment"
   ]
  },
  {
   "cell_type": "markdown",
   "id": "2e21f8f9-d9f1-4c09-8199-f5b9771160e0",
   "metadata": {},
   "source": [
    "## Overview:"
   ]
  },
  {
   "cell_type": "markdown",
   "id": "377fd083-6745-4131-96fe-b819df0acfde",
   "metadata": {},
   "source": [
    "Overall goal here for this first analysis"
   ]
  },
  {
   "cell_type": "markdown",
   "id": "e681b01e-87dd-4057-bd21-a9848cf1c800",
   "metadata": {
    "tags": []
   },
   "source": [
    "### **Using the Louvain method:**"
   ]
  },
  {
   "cell_type": "code",
   "execution_count": 25,
   "id": "f7b78e16-fa84-48e1-905a-56b92d7ad1cb",
   "metadata": {},
   "outputs": [],
   "source": [
    "#code here, explore and talk about biological relevance of communities"
   ]
  },
  {
   "cell_type": "markdown",
   "id": "e74e80e6-81f5-4bd8-be0e-f2a415ca43cc",
   "metadata": {},
   "source": [
    "important takeaways"
   ]
  },
  {
   "cell_type": "markdown",
   "id": "291cf993-3aaf-49af-80f8-b2e10924c3b2",
   "metadata": {
    "tags": []
   },
   "source": [
    "### **Using the FastGreedy method:**"
   ]
  },
  {
   "cell_type": "code",
   "execution_count": 26,
   "id": "e9c0aa5c-370d-4e7f-926b-db154381a772",
   "metadata": {},
   "outputs": [],
   "source": [
    "#code here, explore and talk about biological relevance of communities"
   ]
  },
  {
   "cell_type": "markdown",
   "id": "2f23a37f-bfd6-4ce8-8921-eaf06adbdfde",
   "metadata": {},
   "source": [
    "Important takeaways"
   ]
  },
  {
   "cell_type": "markdown",
   "id": "c4ff06df-0cd1-43f8-aa4c-292a69a3a6a3",
   "metadata": {
    "tags": []
   },
   "source": [
    "### **Using the WalkTrap method:**"
   ]
  },
  {
   "cell_type": "code",
   "execution_count": 27,
   "id": "2ec9ce7e-8c3b-4849-af08-f3d4cf5ee5ce",
   "metadata": {},
   "outputs": [],
   "source": [
    "#code here, explore and talk about biological relevance of communities"
   ]
  },
  {
   "cell_type": "markdown",
   "id": "3e93e626-6d73-4561-978c-5ce8faeebd55",
   "metadata": {},
   "source": [
    "important takeaways"
   ]
  },
  {
   "cell_type": "markdown",
   "id": "2ba9f281-6066-4e9f-874e-b0c83c5be4cb",
   "metadata": {
    "tags": []
   },
   "source": [
    "### **Using the Edge-Betweenness method:**"
   ]
  },
  {
   "cell_type": "code",
   "execution_count": 28,
   "id": "9a81f1d6-bdbb-465d-b1e1-2ba0a71e81b7",
   "metadata": {},
   "outputs": [],
   "source": [
    "#code here, explore and talk about biological relevance of communities"
   ]
  },
  {
   "cell_type": "markdown",
   "id": "d866787a-ae6b-482c-8523-61cd0acf9d29",
   "metadata": {},
   "source": [
    "important takeaways"
   ]
  },
  {
   "cell_type": "markdown",
   "id": "d3a8e8ae-2683-4f6a-8af4-e57c9b40c28d",
   "metadata": {},
   "source": [
    "## Comparing Methods"
   ]
  },
  {
   "cell_type": "code",
   "execution_count": 29,
   "id": "179e6b1c-7535-46ff-a068-940c1b4f7061",
   "metadata": {},
   "outputs": [],
   "source": [
    "#code for comparing and talking about differences"
   ]
  },
  {
   "cell_type": "markdown",
   "id": "7cf6d069-47b1-402e-8e33-02c6f2dfee58",
   "metadata": {},
   "source": [
    "## Overall Conclusions"
   ]
  },
  {
   "cell_type": "markdown",
   "id": "f791b5b6-1910-49fe-a37a-c43d66321313",
   "metadata": {
    "tags": []
   },
   "source": [
    "Comment on Patterns observed across all three, consistencies, deviations, key things to mention"
   ]
  },
  {
   "cell_type": "markdown",
   "id": "d337441a-ac30-434e-9102-a30575e0c76f",
   "metadata": {},
   "source": [
    "_________________________________________________________________________________"
   ]
  },
  {
   "cell_type": "markdown",
   "id": "20e2fdb7-b392-40d3-8011-1b3961354999",
   "metadata": {
    "tags": []
   },
   "source": [
    "# **Remarks of Community Analysis**"
   ]
  },
  {
   "cell_type": "markdown",
   "id": "0db113ee-17c6-4fcd-b74d-08c5b4ea777b",
   "metadata": {},
   "source": [
    "bla"
   ]
  }
 ],
 "metadata": {
  "kernelspec": {
   "display_name": "Python 3 (ipykernel)",
   "language": "python",
   "name": "python3"
  },
  "language_info": {
   "codemirror_mode": {
    "name": "ipython",
    "version": 3
   },
   "file_extension": ".py",
   "mimetype": "text/x-python",
   "name": "python",
   "nbconvert_exporter": "python",
   "pygments_lexer": "ipython3",
   "version": "3.9.6"
  }
 },
 "nbformat": 4,
 "nbformat_minor": 5
}
