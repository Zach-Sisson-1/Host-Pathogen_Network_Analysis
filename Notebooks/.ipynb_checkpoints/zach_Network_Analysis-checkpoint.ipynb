{
 "cells": [
  {
   "cell_type": "markdown",
   "id": "1ca9e827-da7b-4ea4-b07a-b0bca07624cc",
   "metadata": {},
   "source": [
    "# Network Analysis Notebook"
   ]
  },
  {
   "cell_type": "markdown",
   "id": "c79194b4-8f0f-460b-a4aa-a31d569a5131",
   "metadata": {},
   "source": [
    "10/11/21"
   ]
  },
  {
   "cell_type": "markdown",
   "id": "a01bb922-b358-4a7e-a20b-ac8834fb0356",
   "metadata": {},
   "source": [
    "\n",
    "1) Downloaded APID human PPIN network via http://cicblade.dep.usal.es:8080/APID/init.action (selected binary interactions)\n",
    "Binary interactions ensures that we are collecting direct 1-1 interactions and not those that are just in complex. Also uses Uniprot ID's \n",
    "\n",
    "Identifying Cells that Mtb infects:\n",
    "- Reference: https://www.ncbi.nlm.nih.gov/pmc/articles/PMC3867229/\n",
    "- Cell types: Phagocytic mainly(Macrophages,dendritic cells,neutrophils) (infection begins with alveolar macrophages), \n",
    "\t- epithelial and endothelial cells\n",
    "\t- mention of adipocytes \n",
    "\n",
    "- 2) Downloaded set of enriched genes in macrophages via Human Protein Atlas https://www.proteinatlas.org/humanproteome/celltype/blood+%26+immune+cells#macrophages \n",
    "\n",
    "3) Downloaded Uniprot data: https://www.uniprot.org/uniprot/?query=homo+sapiens&sort=score\n",
    "with factors: \n"
   ]
  },
  {
   "cell_type": "markdown",
   "id": "8287940c-7d09-44ab-bd62-707b02a73875",
   "metadata": {},
   "source": [
    "R script to filter data:"
   ]
  },
  {
   "cell_type": "markdown",
   "id": "a349ac6b-f093-4c42-b865-ee8de318e0f7",
   "metadata": {},
   "source": [
    "```{r}\n",
    "library(tidyverse)\n",
    "library(readr)\n",
    "```\n",
    "Script inputs bla bla bla. \n",
    "\n",
    "APID human PPIN source data = http://cicblade.dep.usal.es:8080/APID/init.action (binary interactions)\n",
    "```{r}\n",
    "#Loads APID Human PPIN data\n",
    "df_APID <- data.frame(read_tsv(\"../Data/APID_human_binary.txt\"))\n",
    "APID <- as_tibble(df_APID)\n",
    "print(APID)\n",
    "```\n",
    "\n",
    "Human Protein Atlas source data = https://www.proteinatlas.org/humanproteome/celltype/blood+%26+immune+cells#macrophages \n",
    "```{r}\n",
    "#Loads Protein ATLAS data containing set of expressed in genes in Macrophages\n",
    "df_ProtAtlas <- data.frame(read_tsv(\"../Data/cell_type_category_rna_Macrophages_Cell.tsv\"))\n",
    "ProtAtlas <- as_tibble(df_ProtAtlas)\n",
    "print(ProtAtlas)\n",
    "```\n",
    "\n",
    "```{r}\n",
    "#Filters APID Human PPIN data to include only those interactions among proteins expressed in cells that Mtb infects (Macrophages). Specifically, retains row info only if Uniprot ID_A or ID_B is found in Macrophage Protein Atlas list. \n",
    "\n",
    "Macrophage_subsetted__APID_list <- subset(APID, APID$UniprotID_A %in% ProtAtlas$Uniprot | APID$UniprotID_B %in% ProtAtlas$Uniprot)\n",
    "\n",
    "\n",
    "nrow(Macrophage_subsetted__APID_list)\n",
    "nrow(APID) \n",
    "```\n",
    "Of the 154955 total APID rows, we retained 5212, removing 149743 entries.\n",
    "\n",
    "```{r}\n",
    "#Exports data\n",
    "write_tsv(Macrophage_subsetted__APID_list, file = \"../Data/APID_human_binary_subsetted_Macrophage.txt\")\n",
    "```\n",
    "\n"
   ]
  },
  {
   "cell_type": "markdown",
   "id": "64abc0e0-1bba-4ed3-bc9b-7c74a9aac524",
   "metadata": {},
   "source": [
    "## Constructing the Network"
   ]
  },
  {
   "cell_type": "code",
   "execution_count": 4,
   "id": "9ca2da7a-6276-485c-b1a9-93ca03893aed",
   "metadata": {},
   "outputs": [],
   "source": []
  },
  {
   "cell_type": "code",
   "execution_count": null,
   "id": "b2807656-f83b-443c-ad25-7246a465a49a",
   "metadata": {},
   "outputs": [],
   "source": []
  },
  {
   "cell_type": "code",
   "execution_count": null,
   "id": "03ce48cb-9cda-45ab-8e7d-0eaa87d11d0e",
   "metadata": {},
   "outputs": [],
   "source": []
  }
 ],
 "metadata": {
  "kernelspec": {
   "display_name": "Python 3 (ipykernel)",
   "language": "python",
   "name": "python3"
  },
  "language_info": {
   "codemirror_mode": {
    "name": "ipython",
    "version": 3
   },
   "file_extension": ".py",
   "mimetype": "text/x-python",
   "name": "python",
   "nbconvert_exporter": "python",
   "pygments_lexer": "ipython3",
   "version": "3.9.6"
  }
 },
 "nbformat": 4,
 "nbformat_minor": 5
}
