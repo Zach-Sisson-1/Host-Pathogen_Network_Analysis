{
 "cells": [
  {
   "cell_type": "markdown",
   "id": "9b360b25-7294-40e3-a5d7-5d2fcc4b493c",
   "metadata": {
    "tags": []
   },
   "source": [
    "# **Centrality Analysis**"
   ]
  },
  {
   "cell_type": "markdown",
   "id": "c261dc40-ad64-4ad0-9ddf-c52fc193b7f6",
   "metadata": {},
   "source": [
    "Workflow:\n",
    "1) Perform the 3 centrality analyses on entire network, commenting on features and relevance as we discover them\n",
    "2) Perform same 3 analyses on the subnetwork of proteins of interest, comparing to main graph\n",
    "3) Add Pathogen Nodes, Repeat steps 1 & 2 "
   ]
  },
  {
   "cell_type": "markdown",
   "id": "6e8f34ef-aa9b-4efd-84c4-54e0f4500462",
   "metadata": {},
   "source": [
    "## **Introduction** - Understanding Centrality"
   ]
  },
  {
   "cell_type": "markdown",
   "id": "c4bd76c9-bc1a-4a8e-a5c2-788a26156188",
   "metadata": {},
   "source": [
    "The structure of complex networks such as PPINs are often very heterogenous and it can be expected that some proteins will be more important than others when considering functionality, and in our case, their role in disease. The importance of these proteins can be quantified by a measure of network centrality, in which the most 'central' proteins score higher in this measure and are typically the most influential over the flow of information within the network.For this study, we will consider three different definitions of what it means for a protein to be a central in our network, and use these definitions to identify important hubs and bottlenecks which may serve as targets for therapeutic intervention. For this analysis we will be using betweenness, degree, and closeness centrality, each of which are described, along with their considerations in the next section.\n"
   ]
  },
  {
   "cell_type": "markdown",
   "id": "41dcf649-73ff-40ff-a62b-62e0f0f369da",
   "metadata": {
    "tags": []
   },
   "source": [
    "## Betweenness Centrality:"
   ]
  },
  {
   "cell_type": "markdown",
   "id": "b82a1613-12ad-4b99-bbec-725cb45fe604",
   "metadata": {},
   "source": [
    "Using this definition of centrality, a node is central if there are many shortest paths running through it. For example, if we imagine a metabolic network composed of various enzymes which transform basic nutrients into functional proteins and suppose we identify an enzyme that catalyzes a reaction that forms an intermediate metabolite common to all final products, we would label that protein enzyme as having a high betweenness centrality. Specifically, this measure of centrality can be described in the following formula:"
   ]
  },
  {
   "cell_type": "markdown",
   "id": "44303cac-01b9-43ff-af21-cd9481de36bc",
   "metadata": {},
   "source": [
    "$$B_{i}= \\sum_{a,b}\\frac{\\eta(a,i,b)}{\\eta(a,b)}$$"
   ]
  },
  {
   "cell_type": "markdown",
   "id": "e25cf862-8500-4daf-881d-18e4f3ef6935",
   "metadata": {},
   "source": [
    "where $\\eta(a,i,b)$ represents the number of shortest paths connecting nodes $\\textit{a}$ and $\\textit{b}$ that pass through vertex $\\textit{i}$ and $\\eta(a,b)$ represents the total number of shortest paths that exist between $\\textit{a}$ and $\\textit{b}$. This calculation of $B_{i}$ can be simply understood as the summation of the proportions of the number of node pairs in the network that include i along their connecting path out of the total number of possible paths from $\\textit{a}$ to $\\textit{b}$. Given this, a higher $B_{i}$ value indicates the node is more central.\n",
    "\n",
    "Identifying proteins in our network with a high $B_{i}$ should reveal bottlenecks, where two communities are linked together by a single, or few proteins. If bottleneck proteins are disrupted, the information flow between the connected communities would likely stop, resulting in large changes in the functionality of those communities.  "
   ]
  },
  {
   "cell_type": "markdown",
   "id": "dbb521ab-480d-4ff1-9b19-5ac5373a3f59",
   "metadata": {
    "tags": []
   },
   "source": [
    "##  Degree Centrality:"
   ]
  },
  {
   "cell_type": "markdown",
   "id": "ea9124b9-f0b0-4515-8fdb-e79e10a2b655",
   "metadata": {},
   "source": [
    "Defining a node as central by its degree is another common way of measuring centrality. Using this definition, a node is central if it has a high degree, meaning there are many edges connecting it. This formula can be represented as: \n",
    "\n",
    "$$k_{i} = \\sum_{j=1}^{N}A_{ij}$$\n",
    "\n",
    "where $\\textit{i}$ is the node of interest, N is the number of nodes in the network, and j is another node within the network. This definition of centrality is better used when interested in local centrality, such as identifying major general hubs. An example of this might be identifying a signal transduction factor that is implemented in a wide variety of cellular functions. A major limitation when using this definition of centrality is that the node labeled as central may exist at the periphery of the network and not actually be located in the center, topographically. "
   ]
  },
  {
   "cell_type": "markdown",
   "id": "aabe0f99-56b2-42a7-8622-03e6194fd5bb",
   "metadata": {
    "tags": []
   },
   "source": [
    "## Closeness Centrality:"
   ]
  },
  {
   "cell_type": "markdown",
   "id": "606825de-015f-4b1c-9ec5-1b7ed68c2aa3",
   "metadata": {},
   "source": [
    "Lastly, we will be considering the closeness definition of centrality. Under this definition, a node is considered central if it is close to all other nodes in the network. This can be calculated as the average distance of each node to all other nodes and can represented as: $$C_{i} = \\frac{N}{\\sum_{j=1,j\\neq{i}}^{N}d_{ij}}$$ \n",
    "\n",
    "where $C_{i}$ is the measure of centrality at a particular node i, N is the total number of nodes in the network, and $d_{ij}$ is the length of the shortest path between i and j.\n",
    "\n",
    "This definition is intuitive in that one might expect information in a protein network to flow through the shortest distances, and works best for networks with larger variability in path length. A drawback of this working definition is that in PPINs where the variability in average pathlength is small, defining a protein as central may be meaningless if the diameter of the network is small."
   ]
  },
  {
   "cell_type": "markdown",
   "id": "53b442ca-708a-40a2-959a-f3f041fdfc49",
   "metadata": {},
   "source": [
    "_____________________________________________________________________________________________________"
   ]
  },
  {
   "cell_type": "markdown",
   "id": "c4cebc07-03da-4a3e-9905-e888a4b4ae61",
   "metadata": {
    "tags": []
   },
   "source": [
    "# **Centrality Analysis of the Healthy Network:**"
   ]
  },
  {
   "cell_type": "code",
   "execution_count": 110,
   "id": "1970f9d8-0a13-47ac-a67f-c0a27eb59234",
   "metadata": {
    "tags": []
   },
   "outputs": [],
   "source": [
    "import networkx as nx\n",
    "import matplotlib.pyplot as plt\n",
    "\n",
    "#import graph\n",
    "file = open(\"../Data/Macrophage_protein_network_with_attributes.pkl\", \"rb\")\n",
    "G = nx.read_gpickle(file)"
   ]
  },
  {
   "cell_type": "markdown",
   "id": "90ee5745-2f4a-4ea4-adab-c2d6246558a4",
   "metadata": {},
   "source": [
    "## Overview:"
   ]
  },
  {
   "cell_type": "markdown",
   "id": "ab2a0666-a84b-4c1e-8549-9dead6cb3994",
   "metadata": {},
   "source": [
    "### Here we will examine the central nodes of the healthy human macrophage protein network and determine what role they play, serving either as a hub or bottleneck. We will be applying the three different definitions of centrality described above."
   ]
  },
  {
   "cell_type": "markdown",
   "id": "1ecd0b41-c695-4490-91f4-2f7ae873d518",
   "metadata": {
    "tags": []
   },
   "source": [
    "### **Betweenness Centrality:**"
   ]
  },
  {
   "cell_type": "code",
   "execution_count": 64,
   "id": "642e8b6f-cd13-43e3-b265-936c344fb2cc",
   "metadata": {},
   "outputs": [],
   "source": [
    "#Calculating betweenness centrality:\n",
    "betweenness_centralities = nx.betweenness_centrality(G)"
   ]
  },
  {
   "cell_type": "code",
   "execution_count": 94,
   "id": "9f3373f2-b2a7-4660-a173-9e66f058b6ac",
   "metadata": {},
   "outputs": [
    {
     "name": "stdout",
     "output_type": "stream",
     "text": [
      "There are 7 nodes with a betweenness centrality of at least 0.06\n",
      "The nodes are: ['P16401', 'Q9H257', 'P08631', 'Q02930', 'P02545', 'P59046', 'Q8NI38']\n"
     ]
    },
    {
     "data": {
      "image/png": "[encoded data removed]",
      "text/plain": [
       "<Figure size 432x288 with 1 Axes>"
      ]
     },
     "metadata": {
      "needs_background": "light"
     },
     "output_type": "display_data"
    }
   ],
   "source": [
    "#sort dictionary so nodes with highest betweenness centrality are at the top\n",
    "betweenness_sorted = dict(sorted(betweenness_centralities.items(), reverse = True, key=lambda x:x[1]))\n",
    "\n",
    "#Display the range of betweenness centrality measures \n",
    "def betweenness_centrality_plot(dict):\n",
    "    centrality_list = [] \n",
    "    for key,value in betweenness_sorted.items():\n",
    "        centrality_list.append(value)\n",
    "    plot = plt.hist(centrality_list, log=True, bins = 30)\n",
    "    plt.xlabel(\"Betweenness Centrality\")\n",
    "    plt.ylabel(\"Frequency\")\n",
    "    return(plot)\n",
    "\n",
    "betweenness_centrality_plot(betweenness_sorted); \n",
    "\n",
    "#Select all nodes that have a betweenness centrality of at least 0.06:\n",
    "betweenness_central_nodes = []\n",
    "for key,value in betweenness_sorted.items():\n",
    "    if value >= 0.06:\n",
    "        betweenness_central_nodes.append(key)\n",
    "        \n",
    "#print(betweenness_sorted)\n",
    "print(\"There are {} nodes with a betweenness centrality of at least 0.06\".format(len(betweenness_central_nodes))) \n",
    "print(\"The nodes are: {}\".format(betweenness_central_nodes))"
   ]
  },
  {
   "cell_type": "markdown",
   "id": "5718e190-edd3-4328-9462-c08dd168def7",
   "metadata": {},
   "source": [
    "Now that we have selected 7 nodes that have the highest betweeneness centrality, lets determine if those nodes are hubs or bottlenecks by viewing their place within the network"
   ]
  },
  {
   "cell_type": "code",
   "execution_count": 84,
   "id": "14faa54f-f8d9-4452-a9c3-36977b5593f0",
   "metadata": {},
   "outputs": [],
   "source": [
    "#Goal: create 7 subgraphs where each subgraph is the central node plus its neighbors neighbors\n",
    "def second_neighbors(graph, node) -> list:\n",
    "    \"\"\"Takes a graph and a node of choice and returns a list of the unique neighborhood nodes of the second degree for the given node\"\"\"\n",
    "    node = str(node)\n",
    "    return ([second_neighbor \n",
    "            for first_neighbor in graph.neighbors(node)\n",
    "            for second_neighbor in graph.neighbors(first_neighbor) \n",
    "            if second_neighbor != node])\n",
    "\n",
    "#Save each subgraph as a class object in a list\n",
    "graph_list = []\n",
    "for node in betweenness_central_nodes:\n",
    "    subgraph_list = second_neighbors(G,node)\n",
    "    subgraph = G.subgraph(subgraph_list)\n",
    "    graph_list.append(subgraph)\n",
    "    \n",
    "#Need to actually graph things and see edges. nx.draw doesnt show edges?"
   ]
  },
  {
   "cell_type": "code",
   "execution_count": 70,
   "id": "62e51682-f4af-44e6-834c-a2b6a2c6a5c8",
   "metadata": {},
   "outputs": [
    {
     "name": "stdout",
     "output_type": "stream",
     "text": [
      "Graph with 61 nodes and 9 edges\n"
     ]
    },
    {
     "data": {
      "image/png": "[encoded data removed]",
      "text/plain": [
       "<Figure size 432x288 with 1 Axes>"
      ]
     },
     "metadata": {},
     "output_type": "display_data"
    }
   ],
   "source": [
    "nx.draw(graph_list[0])\n",
    "print(graph_list[0])"
   ]
  },
  {
   "cell_type": "markdown",
   "id": "2a4f0d56-d793-41fc-a3c0-41f362baa11f",
   "metadata": {},
   "source": [
    "Stll need to visualize edges to determine if these central nodes are bottlenecks or hubs-"
   ]
  },
  {
   "cell_type": "markdown",
   "id": "74d8bc27-83d8-485c-9636-450b0211a998",
   "metadata": {
    "tags": []
   },
   "source": [
    "### **Degree Centrality:**"
   ]
  },
  {
   "cell_type": "code",
   "execution_count": 101,
   "id": "5c8523b9-1128-4f61-8c59-52af34f502ca",
   "metadata": {},
   "outputs": [],
   "source": [
    "#Calculating Degree Centrality\n",
    "Degree_centralities = nx.degree_centrality(G)"
   ]
  },
  {
   "cell_type": "code",
   "execution_count": 100,
   "id": "dbd119ca-f142-4d83-8a86-ee3b4aa75706",
   "metadata": {},
   "outputs": [
    {
     "name": "stdout",
     "output_type": "stream",
     "text": [
      "There are 6 nodes with a Degree centrality of at least 0.03\n",
      "The nodes are: ['P16401', 'Q9H257', 'Q02930', 'Q8NEC5', 'Q8NI38', 'Q13422']\n"
     ]
    },
    {
     "data": {
      "image/png": "[encoded data removed]",
      "text/plain": [
       "<Figure size 432x288 with 1 Axes>"
      ]
     },
     "metadata": {
      "needs_background": "light"
     },
     "output_type": "display_data"
    }
   ],
   "source": [
    "#sort dictionary so nodes with highest degree centrality are at the top\n",
    "Degree_sorted = dict(sorted(Degree_centralities.items(), reverse = True, key=lambda x:x[1]))\n",
    "\n",
    "#Display the range of Degree centrality measures \n",
    "def Degree_centrality_plot(dict):\n",
    "    centrality_list = [] \n",
    "    for key,value in Degree_sorted.items():\n",
    "        centrality_list.append(value)\n",
    "    plot = plt.hist(centrality_list, log=True, bins = 30)\n",
    "    plt.xlabel(\"Degree Centrality\")\n",
    "    plt.ylabel(\"Frequency\")\n",
    "    return(plot)\n",
    "\n",
    "Degree_centrality_plot(Degree_sorted); \n",
    "\n",
    "#Select all nodes that have a degree centrality of at least 0.03:\n",
    "degree_central_nodes = []\n",
    "for key,value in Degree_sorted.items():\n",
    "    if value >= 0.03:\n",
    "        degree_central_nodes.append(key)\n",
    "        \n",
    "#print(betweenness_sorted)\n",
    "print(\"There are {} nodes with a Degree centrality of at least 0.03\".format(len(degree_central_nodes)))  \n",
    "print(\"The nodes are: {}\".format(degree_central_nodes))"
   ]
  },
  {
   "cell_type": "markdown",
   "id": "05ad8ad2-a1b2-4773-ba2d-79a4918cfc3a",
   "metadata": {},
   "source": [
    "Need to visualize neighborhoods of these nodes, are they bottlnecks or hubs?"
   ]
  },
  {
   "cell_type": "code",
   "execution_count": null,
   "id": "19fcecd4-db3e-4624-9f90-86bdedeeb558",
   "metadata": {},
   "outputs": [],
   "source": [
    "#code here, explore and talk about biological relevance of findings"
   ]
  },
  {
   "cell_type": "markdown",
   "id": "e920cf92-17fa-4dec-b583-99938c0a49db",
   "metadata": {
    "tags": []
   },
   "source": [
    "### **Closeness Centrality:**"
   ]
  },
  {
   "cell_type": "code",
   "execution_count": 97,
   "id": "99e1617c-d017-4f69-95b1-853c9fd929e1",
   "metadata": {},
   "outputs": [],
   "source": [
    "#Calculating Closeness Centrality\n",
    "Closeness_centralities = nx.closeness_centrality(G)"
   ]
  },
  {
   "cell_type": "code",
   "execution_count": 109,
   "id": "7f8309a7-8742-40c0-99c1-472dc2dc2dc2",
   "metadata": {},
   "outputs": [
    {
     "name": "stdout",
     "output_type": "stream",
     "text": [
      "There are 28 nodes with a Closeness centrality of at least 0.25\n",
      "The nodes are: ['P08631', 'P59046', 'Q9H257', 'P02545', 'P43405', 'Q15323', 'Q6A162', 'Q9P2A4', 'P00533', 'P26951', 'Q8NI38', 'Q02930', 'A8MQ03', 'P05107', 'Q13094', 'P01375', 'P16401', 'Q8TB24', 'P31146', 'P62993', 'Q13422', 'P60410', 'P05067', 'Q8NEC5', 'O43586', 'Q96QH2', 'P04271', 'O75031']\n"
     ]
    },
    {
     "data": {
      "image/png": "[encoded data removed]",
      "text/plain": [
       "<Figure size 432x288 with 1 Axes>"
      ]
     },
     "metadata": {
      "needs_background": "light"
     },
     "output_type": "display_data"
    }
   ],
   "source": [
    "#sort dictionary so nodes with highest degree centrality are at the top\n",
    "Closeness_sorted = dict(sorted(Closeness_centralities.items(), reverse = True, key=lambda x:x[1]))\n",
    "\n",
    "#Display the range of Degree centrality measures \n",
    "def Closeness_centrality_plot(dict):\n",
    "    centrality_list = [] \n",
    "    for key,value in Closeness_sorted.items():\n",
    "        centrality_list.append(value)\n",
    "    plot = plt.hist(centrality_list, log=True, bins = 30)\n",
    "    plt.xlabel(\"Closeness Centrality\")\n",
    "    plt.ylabel(\"Frequency\")\n",
    "    return(plot)\n",
    "\n",
    "Closeness_centrality_plot(Closeness_sorted); \n",
    "\n",
    "#Select all nodes that have a Closeness centrality of at least 0.25:\n",
    "closeness_central_nodes = []\n",
    "for key,value in Closeness_sorted.items():\n",
    "    if value >= 0.25:\n",
    "        closeness_central_nodes.append(key)\n",
    "        \n",
    "#print(closeness_sorted)\n",
    "print(\"There are {} nodes with a Closeness centrality of at least 0.25\".format(len(closeness_central_nodes)))  \n",
    "print(\"The nodes are: {}\".format(closeness_central_nodes))"
   ]
  },
  {
   "cell_type": "markdown",
   "id": "35ec1f81-956a-4502-8c7e-1986f5d39ada",
   "metadata": {},
   "source": [
    "Need to visualize neighborhoods of these nodes, are they bottlenecks or hubs?"
   ]
  },
  {
   "cell_type": "code",
   "execution_count": 10,
   "id": "b7862669-29f6-4281-82da-f4cf6cc7f303",
   "metadata": {},
   "outputs": [],
   "source": [
    "#code here, explore and talk about biological relevance of findings"
   ]
  },
  {
   "cell_type": "markdown",
   "id": "9c0b8c6a-6e85-475e-bec3-f4d1f39a5a64",
   "metadata": {},
   "source": [
    "important takeaways"
   ]
  },
  {
   "cell_type": "markdown",
   "id": "c5b15db7-fdbe-46aa-b97d-deb6b5550873",
   "metadata": {},
   "source": [
    "## Overall Conclusions"
   ]
  },
  {
   "cell_type": "markdown",
   "id": "3d553f24-2f3f-490b-8496-b04363ab7766",
   "metadata": {
    "tags": []
   },
   "source": [
    "Comment on Patterns observed across all three, key things to mention"
   ]
  },
  {
   "cell_type": "markdown",
   "id": "98501fb1-0388-43b5-abea-cc4ba86ae07c",
   "metadata": {},
   "source": [
    "_________________________________________________________________________________"
   ]
  },
  {
   "cell_type": "markdown",
   "id": "0805bf32-4047-440b-8b69-5acfaba4f094",
   "metadata": {
    "jp-MarkdownHeadingCollapsed": true,
    "tags": []
   },
   "source": [
    "# ***Centrality Analysis of the Healthy Sub-network***"
   ]
  },
  {
   "cell_type": "code",
   "execution_count": 11,
   "id": "86e9de10-8520-416c-9238-04b04a6da4b0",
   "metadata": {},
   "outputs": [],
   "source": [
    "#Code to import all modules used for entire section - just for ease of deployment"
   ]
  },
  {
   "cell_type": "markdown",
   "id": "c969e7f9-fbc6-4ab5-ba2a-778378cc1839",
   "metadata": {},
   "source": [
    "## Overview:"
   ]
  },
  {
   "cell_type": "markdown",
   "id": "ee6ae56d-5701-4fc5-9d42-f4f5db645566",
   "metadata": {},
   "source": [
    "overall goal for this second analysis."
   ]
  },
  {
   "cell_type": "markdown",
   "id": "3c4385dd-2309-43d2-9f98-af95b5693728",
   "metadata": {},
   "source": [
    "## Extracting the subgraph:"
   ]
  },
  {
   "cell_type": "markdown",
   "id": "c1a2ac41-1751-4dc5-a72e-132f5fc2e75a",
   "metadata": {},
   "source": [
    "Description of problem, and goal here"
   ]
  },
  {
   "cell_type": "code",
   "execution_count": null,
   "id": "e41b4394-69ff-465c-9eb6-e20a65f31916",
   "metadata": {},
   "outputs": [],
   "source": [
    "#Code to get the subgraph out"
   ]
  },
  {
   "cell_type": "markdown",
   "id": "3dc192e0-6f2c-4236-9629-72787c4e7f30",
   "metadata": {
    "tags": []
   },
   "source": [
    "## Betweenness Centrality:"
   ]
  },
  {
   "cell_type": "code",
   "execution_count": null,
   "id": "c87c0d9c-be69-462e-b206-44de268a9fba",
   "metadata": {},
   "outputs": [],
   "source": [
    "#code to do the analysis, and descriptions of findings"
   ]
  },
  {
   "cell_type": "markdown",
   "id": "6db464a3-ad6e-4558-a006-b597a0148f86",
   "metadata": {},
   "source": [
    "Comment on similiarity/ differences"
   ]
  },
  {
   "cell_type": "markdown",
   "id": "724f9d26-e826-49ff-81be-20715622dbf0",
   "metadata": {},
   "source": [
    "## Degree Centrality:"
   ]
  },
  {
   "cell_type": "code",
   "execution_count": null,
   "id": "a9d085cb-232f-4e50-a26c-9af696705e4e",
   "metadata": {},
   "outputs": [],
   "source": [
    "#code to do the analysis, and descriptions of findings"
   ]
  },
  {
   "cell_type": "markdown",
   "id": "6a6d9bd2-1947-444f-89cb-d456432a835b",
   "metadata": {},
   "source": [
    "Comment on similiarity/differences"
   ]
  },
  {
   "cell_type": "markdown",
   "id": "a273eacc-9b42-4d6c-850b-533d7ca9149f",
   "metadata": {},
   "source": [
    "## Closeness Centrality:"
   ]
  },
  {
   "cell_type": "code",
   "execution_count": null,
   "id": "3a7e9936-cf7f-4d22-9373-f8cba87268ee",
   "metadata": {},
   "outputs": [],
   "source": [
    "#code to do the analysis, and descriptions of findings"
   ]
  },
  {
   "cell_type": "markdown",
   "id": "bdf6a2e1-c6c4-4594-9d5c-7c1b22dd2f40",
   "metadata": {},
   "source": [
    "Comment on similiarity/differences"
   ]
  },
  {
   "cell_type": "markdown",
   "id": "507f9433-bf1c-4b90-bd6a-f2436bbb2e81",
   "metadata": {},
   "source": [
    "## Overall Conclusions:"
   ]
  },
  {
   "cell_type": "markdown",
   "id": "de017410-4fae-45a0-8cc0-8d6880ec74fe",
   "metadata": {},
   "source": [
    "Overall comparison of subgraph to main network"
   ]
  },
  {
   "cell_type": "markdown",
   "id": "33131125-c9fb-454d-b849-0e2592044205",
   "metadata": {},
   "source": [
    "_____________________________________________________________________________________________________"
   ]
  },
  {
   "cell_type": "markdown",
   "id": "085759cc-638d-4c25-adfd-a3ae0d9bf77b",
   "metadata": {
    "jp-MarkdownHeadingCollapsed": true,
    "tags": []
   },
   "source": [
    "# **Centrality Analysis of the Diseased Network**"
   ]
  },
  {
   "cell_type": "code",
   "execution_count": 11,
   "id": "2ea079d8-871d-4f09-a428-0fe407bf96d1",
   "metadata": {},
   "outputs": [],
   "source": [
    "#Code to import all modules used for entire section - just for ease of deployment"
   ]
  },
  {
   "cell_type": "markdown",
   "id": "b7216d97-a259-4715-8064-061ff98aed59",
   "metadata": {},
   "source": [
    "## Overview:"
   ]
  },
  {
   "cell_type": "markdown",
   "id": "d0a3c6f7-367c-4a31-af68-669c4508cf65",
   "metadata": {},
   "source": [
    "overall goal of this third analysis"
   ]
  },
  {
   "cell_type": "markdown",
   "id": "1b2f4783-3b67-4373-81e8-4edad1df72f4",
   "metadata": {
    "tags": []
   },
   "source": [
    "## Adding Pathogen Nodes:"
   ]
  },
  {
   "cell_type": "markdown",
   "id": "e5371eee-e6bd-4253-a947-88fd3c067b30",
   "metadata": {},
   "source": [
    "What, why, and how (remove this section if pulling diseased network from saved disease network)"
   ]
  },
  {
   "cell_type": "code",
   "execution_count": null,
   "id": "84fd0d5c-a3d1-4389-a145-271e28913a4b",
   "metadata": {},
   "outputs": [],
   "source": [
    "#Code to add nodes"
   ]
  },
  {
   "cell_type": "markdown",
   "id": "693500ba-e536-40ff-9264-6aacb94f6da3",
   "metadata": {
    "tags": []
   },
   "source": [
    "## Betweenness Centrality:"
   ]
  },
  {
   "cell_type": "code",
   "execution_count": null,
   "id": "c7e0cf60-ddf9-4178-bf7a-c3aaf685bfc0",
   "metadata": {},
   "outputs": [],
   "source": [
    "#Code to analyze it. talk about features as they arise"
   ]
  },
  {
   "cell_type": "markdown",
   "id": "8454833e-860c-4c40-8bc9-e34830795dfc",
   "metadata": {},
   "source": [
    "Takeaways and comparisons to healthy network"
   ]
  },
  {
   "cell_type": "markdown",
   "id": "316eff75-2e7a-4413-93a8-083ab546e50d",
   "metadata": {},
   "source": [
    "## Degree Centrality:"
   ]
  },
  {
   "cell_type": "code",
   "execution_count": null,
   "id": "53320707-a4ac-41d4-af81-b31011e785d2",
   "metadata": {},
   "outputs": [],
   "source": [
    "#Code to analyze it. talk about features as they arise"
   ]
  },
  {
   "cell_type": "markdown",
   "id": "5d1a5210-1ad3-4e71-9251-2047681ed449",
   "metadata": {},
   "source": [
    "Takeaways and comparisons to healthy network"
   ]
  },
  {
   "cell_type": "markdown",
   "id": "71eb8622-d79b-4192-9894-876c7de8120e",
   "metadata": {},
   "source": [
    "## Closeness Centrality:"
   ]
  },
  {
   "cell_type": "code",
   "execution_count": null,
   "id": "b9ab8c4e-b37c-4acc-853b-c5761600d500",
   "metadata": {},
   "outputs": [],
   "source": [
    "#Code to analyze it. talk about features as they arise"
   ]
  },
  {
   "cell_type": "markdown",
   "id": "bbdaf305-3946-401d-bfdc-793ea1790143",
   "metadata": {},
   "source": [
    "Takeaways and comparisons to healthy network"
   ]
  },
  {
   "cell_type": "markdown",
   "id": "202c6cf7-eefa-4e19-94c9-9cdd6f5b86db",
   "metadata": {},
   "source": [
    "## Overall Conclusions"
   ]
  },
  {
   "cell_type": "markdown",
   "id": "c7ba81a5-b444-43c2-a097-0effe0dfb45f",
   "metadata": {},
   "source": [
    "Overall comparison of diseased whole-network to healthy whole-network"
   ]
  },
  {
   "cell_type": "markdown",
   "id": "32691795-1196-4f70-a053-15cdddb2ea45",
   "metadata": {},
   "source": [
    "____________________________________________________________________________________________________"
   ]
  },
  {
   "cell_type": "markdown",
   "id": "8fa48a77-3790-4e19-918e-41f789cf7695",
   "metadata": {
    "jp-MarkdownHeadingCollapsed": true,
    "tags": []
   },
   "source": [
    "# **Centrality Analysis of the Diseased Sub-network**"
   ]
  },
  {
   "cell_type": "code",
   "execution_count": 11,
   "id": "fb898566-1234-4f2a-840b-cc1a62d3c8e4",
   "metadata": {},
   "outputs": [],
   "source": [
    "#Code to import all modules used for entire section - just for ease of deployment"
   ]
  },
  {
   "cell_type": "markdown",
   "id": "be1b5622-6ce0-4a26-b5c2-9dd26d3312bd",
   "metadata": {},
   "source": [
    "## Overview:"
   ]
  },
  {
   "cell_type": "markdown",
   "id": "17341940-c103-4f37-9bf3-141fe3bd565e",
   "metadata": {},
   "source": [
    "overall goal of 4th analysis"
   ]
  },
  {
   "cell_type": "markdown",
   "id": "3d6ad490-af63-4159-bbb5-1d4a490f0224",
   "metadata": {},
   "source": [
    "## Extracting the diseased sub-network:"
   ]
  },
  {
   "cell_type": "markdown",
   "id": "b9e23c70-1031-41d8-b526-801061203b05",
   "metadata": {},
   "source": [
    "description of what,why and how"
   ]
  },
  {
   "cell_type": "code",
   "execution_count": null,
   "id": "3c223942-89aa-4801-b5f4-f1eb6105a310",
   "metadata": {},
   "outputs": [],
   "source": [
    "#Code to do it, talk about features as they arise"
   ]
  },
  {
   "cell_type": "markdown",
   "id": "aa9f89d2-7ea3-4bd7-820d-f504800f7d91",
   "metadata": {
    "tags": []
   },
   "source": [
    "## Betweenness Centrality:"
   ]
  },
  {
   "cell_type": "code",
   "execution_count": null,
   "id": "27161271-d3a4-498c-b649-2e6370d6485b",
   "metadata": {},
   "outputs": [],
   "source": [
    "#Code to analyze it. talk about features as they arise"
   ]
  },
  {
   "cell_type": "markdown",
   "id": "020b7d0f-5324-4e5e-88d7-aed947069e0c",
   "metadata": {},
   "source": [
    "Takeaways and comparisons to healthy sub-network"
   ]
  },
  {
   "cell_type": "markdown",
   "id": "8ba07f8f-d457-41bb-9952-db9f65b16d13",
   "metadata": {},
   "source": [
    "## Degree Centrality:"
   ]
  },
  {
   "cell_type": "code",
   "execution_count": null,
   "id": "40f46f48-7300-403e-bbac-03ff1713f4fc",
   "metadata": {},
   "outputs": [],
   "source": [
    "#Code to analyze it. talk about features as they arise"
   ]
  },
  {
   "cell_type": "markdown",
   "id": "47fb1ead-58be-4a40-8bc9-b6fa9b007e1d",
   "metadata": {},
   "source": [
    "Takeaways and comparisons to healthy sub-network"
   ]
  },
  {
   "cell_type": "markdown",
   "id": "7c53c7f8-b80e-416a-8b4f-ca862189cd98",
   "metadata": {},
   "source": [
    "## Closeness Centrality:"
   ]
  },
  {
   "cell_type": "code",
   "execution_count": null,
   "id": "f61493ce-89ca-439e-9e1e-bbe73a7ddb07",
   "metadata": {},
   "outputs": [],
   "source": [
    "#Code to analyze it. talk about features as they arise"
   ]
  },
  {
   "cell_type": "markdown",
   "id": "caaaef0f-e0e4-46c3-86ea-2dc3b17c4357",
   "metadata": {},
   "source": [
    "Takeaways and comparisons to healthy sub-network"
   ]
  },
  {
   "cell_type": "markdown",
   "id": "78028e7b-5539-4a2b-ab8d-f6e2be75cc64",
   "metadata": {},
   "source": [
    "## Overall Conclusions"
   ]
  },
  {
   "cell_type": "markdown",
   "id": "2896b5d6-5b20-408d-985e-6aa672dd0094",
   "metadata": {},
   "source": [
    "Overall comparison of diseased whole-network to healthy whole-network"
   ]
  },
  {
   "cell_type": "markdown",
   "id": "e81371a0-5a17-4043-a405-36ab5748684e",
   "metadata": {},
   "source": [
    "_______________________________________________________________________________________________"
   ]
  },
  {
   "cell_type": "markdown",
   "id": "9880a432-a3a5-42c8-9412-0614ec4eee91",
   "metadata": {
    "jp-MarkdownHeadingCollapsed": true,
    "tags": []
   },
   "source": [
    "# **Remarks from Centrality Analysis**"
   ]
  },
  {
   "cell_type": "markdown",
   "id": "0f0d91e9-40d5-46ef-bfc7-c2f8e39e50bd",
   "metadata": {},
   "source": [
    "What are key takeaways are from comparing all four networks?"
   ]
  }
 ],
 "metadata": {
  "kernelspec": {
   "display_name": "Python 3 (ipykernel)",
   "language": "python",
   "name": "python3"
  },
  "language_info": {
   "codemirror_mode": {
    "name": "ipython",
    "version": 3
   },
   "file_extension": ".py",
   "mimetype": "text/x-python",
   "name": "python",
   "nbconvert_exporter": "python",
   "pygments_lexer": "ipython3",
   "version": "3.9.6"
  }
 },
 "nbformat": 4,
 "nbformat_minor": 5
}
