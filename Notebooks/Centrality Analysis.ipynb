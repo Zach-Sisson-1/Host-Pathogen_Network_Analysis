{
 "cells": [
  {
   "cell_type": "markdown",
   "id": "9b360b25-7294-40e3-a5d7-5d2fcc4b493c",
   "metadata": {
    "jp-MarkdownHeadingCollapsed": true,
    "tags": []
   },
   "source": [
    "# **Centrality Analysis**"
   ]
  },
  {
   "cell_type": "markdown",
   "id": "c261dc40-ad64-4ad0-9ddf-c52fc193b7f6",
   "metadata": {},
   "source": [
    "Workflow:\n",
    "1) Perform the 3 centrality analyses on entire network, commenting on features and relevance as we discover them\n",
    "2) Perform same 3 analyses on the subnetwork of proteins of interest, comparing to main graph\n",
    "3) Add Pathogen Nodes, Repeat steps 1 & 2 "
   ]
  },
  {
   "cell_type": "markdown",
   "id": "6e8f34ef-aa9b-4efd-84c4-54e0f4500462",
   "metadata": {},
   "source": [
    "## **Introduction** - Understanding Centrality"
   ]
  },
  {
   "cell_type": "markdown",
   "id": "c4bd76c9-bc1a-4a8e-a5c2-788a26156188",
   "metadata": {},
   "source": [
    "Overview of what centrality is, bridges vs hubs, and how we will look at 3 types, betweenness, degree and closeness first in the whole network ..."
   ]
  },
  {
   "cell_type": "markdown",
   "id": "41dcf649-73ff-40ff-a62b-62e0f0f369da",
   "metadata": {
    "tags": []
   },
   "source": [
    "## Betweenness Centrality:"
   ]
  },
  {
   "cell_type": "markdown",
   "id": "b82a1613-12ad-4b99-bbec-725cb45fe604",
   "metadata": {},
   "source": [
    "Background - in depth - how it relates to biology"
   ]
  },
  {
   "cell_type": "markdown",
   "id": "dbb521ab-480d-4ff1-9b19-5ac5373a3f59",
   "metadata": {
    "tags": []
   },
   "source": [
    "##  Degree Centrality:"
   ]
  },
  {
   "cell_type": "markdown",
   "id": "ea9124b9-f0b0-4515-8fdb-e79e10a2b655",
   "metadata": {},
   "source": [
    "Background - in depth - how it relates to biology"
   ]
  },
  {
   "cell_type": "markdown",
   "id": "aabe0f99-56b2-42a7-8622-03e6194fd5bb",
   "metadata": {
    "tags": []
   },
   "source": [
    "## Closeness Centrality:"
   ]
  },
  {
   "cell_type": "markdown",
   "id": "606825de-015f-4b1c-9ec5-1b7ed68c2aa3",
   "metadata": {},
   "source": [
    "Background - in depth - how it relates to biology"
   ]
  },
  {
   "cell_type": "markdown",
   "id": "53b442ca-708a-40a2-959a-f3f041fdfc49",
   "metadata": {},
   "source": [
    "_____________________________________________________________________________________________________"
   ]
  },
  {
   "cell_type": "markdown",
   "id": "c4cebc07-03da-4a3e-9905-e888a4b4ae61",
   "metadata": {
    "jp-MarkdownHeadingCollapsed": true,
    "tags": []
   },
   "source": [
    "# **Centrality Analysis of the Healthy Network:**"
   ]
  },
  {
   "cell_type": "code",
   "execution_count": 12,
   "id": "1970f9d8-0a13-47ac-a67f-c0a27eb59234",
   "metadata": {
    "tags": []
   },
   "outputs": [],
   "source": [
    "#Code to import all modules used for entire section - just for ease of deployment"
   ]
  },
  {
   "cell_type": "markdown",
   "id": "90ee5745-2f4a-4ea4-adab-c2d6246558a4",
   "metadata": {},
   "source": [
    "## Overview:"
   ]
  },
  {
   "cell_type": "markdown",
   "id": "ab2a0666-a84b-4c1e-8549-9dead6cb3994",
   "metadata": {},
   "source": [
    "Overall goal here for this first analysis"
   ]
  },
  {
   "cell_type": "markdown",
   "id": "1ecd0b41-c695-4490-91f4-2f7ae873d518",
   "metadata": {
    "tags": []
   },
   "source": [
    "### **Betweenness Centrality:**"
   ]
  },
  {
   "cell_type": "code",
   "execution_count": 13,
   "id": "642e8b6f-cd13-43e3-b265-936c344fb2cc",
   "metadata": {},
   "outputs": [],
   "source": [
    "#code here, explore and talk about biological relevance of findings at each step"
   ]
  },
  {
   "cell_type": "markdown",
   "id": "5718e190-edd3-4328-9462-c08dd168def7",
   "metadata": {},
   "source": [
    "important takeaways"
   ]
  },
  {
   "cell_type": "markdown",
   "id": "9fafb567-0544-40d9-bf1b-77ee404e74cf",
   "metadata": {},
   "source": [
    "what's important?"
   ]
  },
  {
   "cell_type": "markdown",
   "id": "74d8bc27-83d8-485c-9636-450b0211a998",
   "metadata": {
    "tags": []
   },
   "source": [
    "### **Degree Centrality:**"
   ]
  },
  {
   "cell_type": "code",
   "execution_count": null,
   "id": "19fcecd4-db3e-4624-9f90-86bdedeeb558",
   "metadata": {},
   "outputs": [],
   "source": [
    "#code here, explore and talk about biological relevance of findings"
   ]
  },
  {
   "cell_type": "markdown",
   "id": "763616a8-b66f-4ccd-a778-d376db4d0c3a",
   "metadata": {},
   "source": [
    "Important takeaways"
   ]
  },
  {
   "cell_type": "markdown",
   "id": "e920cf92-17fa-4dec-b583-99938c0a49db",
   "metadata": {
    "tags": []
   },
   "source": [
    "### **Closeness Centrality:**"
   ]
  },
  {
   "cell_type": "code",
   "execution_count": 10,
   "id": "b7862669-29f6-4281-82da-f4cf6cc7f303",
   "metadata": {},
   "outputs": [],
   "source": [
    "#code here, explore and talk about biological relevance of findings"
   ]
  },
  {
   "cell_type": "markdown",
   "id": "9c0b8c6a-6e85-475e-bec3-f4d1f39a5a64",
   "metadata": {},
   "source": [
    "important takeaways"
   ]
  },
  {
   "cell_type": "markdown",
   "id": "c5b15db7-fdbe-46aa-b97d-deb6b5550873",
   "metadata": {},
   "source": [
    "## Overall Conclusions"
   ]
  },
  {
   "cell_type": "markdown",
   "id": "3d553f24-2f3f-490b-8496-b04363ab7766",
   "metadata": {
    "tags": []
   },
   "source": [
    "Comment on Patterns observed across all three, key things to mention"
   ]
  },
  {
   "cell_type": "markdown",
   "id": "98501fb1-0388-43b5-abea-cc4ba86ae07c",
   "metadata": {},
   "source": [
    "_________________________________________________________________________________"
   ]
  },
  {
   "cell_type": "markdown",
   "id": "0805bf32-4047-440b-8b69-5acfaba4f094",
   "metadata": {
    "jp-MarkdownHeadingCollapsed": true,
    "tags": []
   },
   "source": [
    "# ***Centrality Analysis of the Healthy Sub-network***"
   ]
  },
  {
   "cell_type": "code",
   "execution_count": 11,
   "id": "86e9de10-8520-416c-9238-04b04a6da4b0",
   "metadata": {},
   "outputs": [],
   "source": [
    "#Code to import all modules used for entire section - just for ease of deployment"
   ]
  },
  {
   "cell_type": "markdown",
   "id": "c969e7f9-fbc6-4ab5-ba2a-778378cc1839",
   "metadata": {},
   "source": [
    "## Overview:"
   ]
  },
  {
   "cell_type": "markdown",
   "id": "ee6ae56d-5701-4fc5-9d42-f4f5db645566",
   "metadata": {},
   "source": [
    "overall goal for this second analysis."
   ]
  },
  {
   "cell_type": "markdown",
   "id": "3c4385dd-2309-43d2-9f98-af95b5693728",
   "metadata": {},
   "source": [
    "## Extracting the subgraph:"
   ]
  },
  {
   "cell_type": "markdown",
   "id": "c1a2ac41-1751-4dc5-a72e-132f5fc2e75a",
   "metadata": {},
   "source": [
    "Description of problem, and goal here"
   ]
  },
  {
   "cell_type": "code",
   "execution_count": null,
   "id": "e41b4394-69ff-465c-9eb6-e20a65f31916",
   "metadata": {},
   "outputs": [],
   "source": [
    "#Code to get the subgraph out"
   ]
  },
  {
   "cell_type": "markdown",
   "id": "3dc192e0-6f2c-4236-9629-72787c4e7f30",
   "metadata": {
    "tags": []
   },
   "source": [
    "## Betweenness Centrality:"
   ]
  },
  {
   "cell_type": "code",
   "execution_count": null,
   "id": "c87c0d9c-be69-462e-b206-44de268a9fba",
   "metadata": {},
   "outputs": [],
   "source": [
    "#code to do the analysis, and descriptions of findings"
   ]
  },
  {
   "cell_type": "markdown",
   "id": "6db464a3-ad6e-4558-a006-b597a0148f86",
   "metadata": {},
   "source": [
    "Comment on similiarity/ differences"
   ]
  },
  {
   "cell_type": "markdown",
   "id": "724f9d26-e826-49ff-81be-20715622dbf0",
   "metadata": {},
   "source": [
    "## Degree Centrality:"
   ]
  },
  {
   "cell_type": "code",
   "execution_count": null,
   "id": "a9d085cb-232f-4e50-a26c-9af696705e4e",
   "metadata": {},
   "outputs": [],
   "source": [
    "#code to do the analysis, and descriptions of findings"
   ]
  },
  {
   "cell_type": "markdown",
   "id": "6a6d9bd2-1947-444f-89cb-d456432a835b",
   "metadata": {},
   "source": [
    "Comment on similiarity/differences"
   ]
  },
  {
   "cell_type": "markdown",
   "id": "a273eacc-9b42-4d6c-850b-533d7ca9149f",
   "metadata": {},
   "source": [
    "## Closeness Centrality:"
   ]
  },
  {
   "cell_type": "code",
   "execution_count": null,
   "id": "3a7e9936-cf7f-4d22-9373-f8cba87268ee",
   "metadata": {},
   "outputs": [],
   "source": [
    "#code to do the analysis, and descriptions of findings"
   ]
  },
  {
   "cell_type": "markdown",
   "id": "bdf6a2e1-c6c4-4594-9d5c-7c1b22dd2f40",
   "metadata": {},
   "source": [
    "Comment on similiarity/differences"
   ]
  },
  {
   "cell_type": "markdown",
   "id": "507f9433-bf1c-4b90-bd6a-f2436bbb2e81",
   "metadata": {},
   "source": [
    "## Overall Conclusions:"
   ]
  },
  {
   "cell_type": "markdown",
   "id": "de017410-4fae-45a0-8cc0-8d6880ec74fe",
   "metadata": {},
   "source": [
    "Overall comparison of subgraph to main network"
   ]
  },
  {
   "cell_type": "markdown",
   "id": "33131125-c9fb-454d-b849-0e2592044205",
   "metadata": {},
   "source": [
    "_____________________________________________________________________________________________________"
   ]
  },
  {
   "cell_type": "markdown",
   "id": "085759cc-638d-4c25-adfd-a3ae0d9bf77b",
   "metadata": {
    "jp-MarkdownHeadingCollapsed": true,
    "tags": []
   },
   "source": [
    "# **Centrality Analysis of the Diseased Network**"
   ]
  },
  {
   "cell_type": "code",
   "execution_count": 11,
   "id": "2ea079d8-871d-4f09-a428-0fe407bf96d1",
   "metadata": {},
   "outputs": [],
   "source": [
    "#Code to import all modules used for entire section - just for ease of deployment"
   ]
  },
  {
   "cell_type": "markdown",
   "id": "b7216d97-a259-4715-8064-061ff98aed59",
   "metadata": {},
   "source": [
    "## Overview:"
   ]
  },
  {
   "cell_type": "markdown",
   "id": "d0a3c6f7-367c-4a31-af68-669c4508cf65",
   "metadata": {},
   "source": [
    "overall goal of this third analysis"
   ]
  },
  {
   "cell_type": "markdown",
   "id": "1b2f4783-3b67-4373-81e8-4edad1df72f4",
   "metadata": {
    "tags": []
   },
   "source": [
    "## Adding Pathogen Nodes:"
   ]
  },
  {
   "cell_type": "markdown",
   "id": "e5371eee-e6bd-4253-a947-88fd3c067b30",
   "metadata": {},
   "source": [
    "What, why, and how (remove this section if pulling diseased network from saved disease network)"
   ]
  },
  {
   "cell_type": "code",
   "execution_count": null,
   "id": "84fd0d5c-a3d1-4389-a145-271e28913a4b",
   "metadata": {},
   "outputs": [],
   "source": [
    "#Code to add nodes"
   ]
  },
  {
   "cell_type": "markdown",
   "id": "693500ba-e536-40ff-9264-6aacb94f6da3",
   "metadata": {
    "tags": []
   },
   "source": [
    "## Betweenness Centrality:"
   ]
  },
  {
   "cell_type": "code",
   "execution_count": null,
   "id": "c7e0cf60-ddf9-4178-bf7a-c3aaf685bfc0",
   "metadata": {},
   "outputs": [],
   "source": [
    "#Code to analyze it. talk about features as they arise"
   ]
  },
  {
   "cell_type": "markdown",
   "id": "8454833e-860c-4c40-8bc9-e34830795dfc",
   "metadata": {},
   "source": [
    "Takeaways and comparisons to healthy network"
   ]
  },
  {
   "cell_type": "markdown",
   "id": "316eff75-2e7a-4413-93a8-083ab546e50d",
   "metadata": {},
   "source": [
    "## Degree Centrality:"
   ]
  },
  {
   "cell_type": "code",
   "execution_count": null,
   "id": "53320707-a4ac-41d4-af81-b31011e785d2",
   "metadata": {},
   "outputs": [],
   "source": [
    "#Code to analyze it. talk about features as they arise"
   ]
  },
  {
   "cell_type": "markdown",
   "id": "5d1a5210-1ad3-4e71-9251-2047681ed449",
   "metadata": {},
   "source": [
    "Takeaways and comparisons to healthy network"
   ]
  },
  {
   "cell_type": "markdown",
   "id": "71eb8622-d79b-4192-9894-876c7de8120e",
   "metadata": {},
   "source": [
    "## Closeness Centrality:"
   ]
  },
  {
   "cell_type": "code",
   "execution_count": null,
   "id": "b9ab8c4e-b37c-4acc-853b-c5761600d500",
   "metadata": {},
   "outputs": [],
   "source": [
    "#Code to analyze it. talk about features as they arise"
   ]
  },
  {
   "cell_type": "markdown",
   "id": "bbdaf305-3946-401d-bfdc-793ea1790143",
   "metadata": {},
   "source": [
    "Takeaways and comparisons to healthy network"
   ]
  },
  {
   "cell_type": "markdown",
   "id": "202c6cf7-eefa-4e19-94c9-9cdd6f5b86db",
   "metadata": {},
   "source": [
    "## Overall Conclusions"
   ]
  },
  {
   "cell_type": "markdown",
   "id": "c7ba81a5-b444-43c2-a097-0effe0dfb45f",
   "metadata": {},
   "source": [
    "Overall comparison of diseased whole-network to healthy whole-network"
   ]
  },
  {
   "cell_type": "markdown",
   "id": "32691795-1196-4f70-a053-15cdddb2ea45",
   "metadata": {},
   "source": [
    "____________________________________________________________________________________________________"
   ]
  },
  {
   "cell_type": "markdown",
   "id": "8fa48a77-3790-4e19-918e-41f789cf7695",
   "metadata": {
    "jp-MarkdownHeadingCollapsed": true,
    "tags": []
   },
   "source": [
    "# **Centrality Analysis of the Diseased Sub-network**"
   ]
  },
  {
   "cell_type": "code",
   "execution_count": 11,
   "id": "fb898566-1234-4f2a-840b-cc1a62d3c8e4",
   "metadata": {},
   "outputs": [],
   "source": [
    "#Code to import all modules used for entire section - just for ease of deployment"
   ]
  },
  {
   "cell_type": "markdown",
   "id": "be1b5622-6ce0-4a26-b5c2-9dd26d3312bd",
   "metadata": {},
   "source": [
    "## Overview:"
   ]
  },
  {
   "cell_type": "markdown",
   "id": "17341940-c103-4f37-9bf3-141fe3bd565e",
   "metadata": {},
   "source": [
    "overall goal of 4th analysis"
   ]
  },
  {
   "cell_type": "markdown",
   "id": "3d6ad490-af63-4159-bbb5-1d4a490f0224",
   "metadata": {},
   "source": [
    "## Extracting the diseased sub-network:"
   ]
  },
  {
   "cell_type": "markdown",
   "id": "b9e23c70-1031-41d8-b526-801061203b05",
   "metadata": {},
   "source": [
    "description of what,why and how"
   ]
  },
  {
   "cell_type": "code",
   "execution_count": null,
   "id": "3c223942-89aa-4801-b5f4-f1eb6105a310",
   "metadata": {},
   "outputs": [],
   "source": [
    "#Code to do it, talk about features as they arise"
   ]
  },
  {
   "cell_type": "markdown",
   "id": "aa9f89d2-7ea3-4bd7-820d-f504800f7d91",
   "metadata": {
    "tags": []
   },
   "source": [
    "## Betweenness Centrality:"
   ]
  },
  {
   "cell_type": "code",
   "execution_count": null,
   "id": "27161271-d3a4-498c-b649-2e6370d6485b",
   "metadata": {},
   "outputs": [],
   "source": [
    "#Code to analyze it. talk about features as they arise"
   ]
  },
  {
   "cell_type": "markdown",
   "id": "020b7d0f-5324-4e5e-88d7-aed947069e0c",
   "metadata": {},
   "source": [
    "Takeaways and comparisons to healthy sub-network"
   ]
  },
  {
   "cell_type": "markdown",
   "id": "8ba07f8f-d457-41bb-9952-db9f65b16d13",
   "metadata": {},
   "source": [
    "## Degree Centrality:"
   ]
  },
  {
   "cell_type": "code",
   "execution_count": null,
   "id": "40f46f48-7300-403e-bbac-03ff1713f4fc",
   "metadata": {},
   "outputs": [],
   "source": [
    "#Code to analyze it. talk about features as they arise"
   ]
  },
  {
   "cell_type": "markdown",
   "id": "47fb1ead-58be-4a40-8bc9-b6fa9b007e1d",
   "metadata": {},
   "source": [
    "Takeaways and comparisons to healthy sub-network"
   ]
  },
  {
   "cell_type": "markdown",
   "id": "7c53c7f8-b80e-416a-8b4f-ca862189cd98",
   "metadata": {},
   "source": [
    "## Closeness Centrality:"
   ]
  },
  {
   "cell_type": "code",
   "execution_count": null,
   "id": "f61493ce-89ca-439e-9e1e-bbe73a7ddb07",
   "metadata": {},
   "outputs": [],
   "source": [
    "#Code to analyze it. talk about features as they arise"
   ]
  },
  {
   "cell_type": "markdown",
   "id": "caaaef0f-e0e4-46c3-86ea-2dc3b17c4357",
   "metadata": {},
   "source": [
    "Takeaways and comparisons to healthy sub-network"
   ]
  },
  {
   "cell_type": "markdown",
   "id": "78028e7b-5539-4a2b-ab8d-f6e2be75cc64",
   "metadata": {},
   "source": [
    "## Overall Conclusions"
   ]
  },
  {
   "cell_type": "markdown",
   "id": "2896b5d6-5b20-408d-985e-6aa672dd0094",
   "metadata": {},
   "source": [
    "Overall comparison of diseased whole-network to healthy whole-network"
   ]
  },
  {
   "cell_type": "markdown",
   "id": "e81371a0-5a17-4043-a405-36ab5748684e",
   "metadata": {},
   "source": [
    "_______________________________________________________________________________________________"
   ]
  },
  {
   "cell_type": "markdown",
   "id": "9880a432-a3a5-42c8-9412-0614ec4eee91",
   "metadata": {
    "jp-MarkdownHeadingCollapsed": true,
    "tags": []
   },
   "source": [
    "# **Remarks from Centrality Analysis**"
   ]
  },
  {
   "cell_type": "markdown",
   "id": "0f0d91e9-40d5-46ef-bfc7-c2f8e39e50bd",
   "metadata": {},
   "source": [
    "What are key takeaways are from comparing all four networks?"
   ]
  }
 ],
 "metadata": {
  "kernelspec": {
   "display_name": "Python 3 (ipykernel)",
   "language": "python",
   "name": "python3"
  },
  "language_info": {
   "codemirror_mode": {
    "name": "ipython",
    "version": 3
   },
   "file_extension": ".py",
   "mimetype": "text/x-python",
   "name": "python",
   "nbconvert_exporter": "python",
   "pygments_lexer": "ipython3",
   "version": "3.9.6"
  }
 },
 "nbformat": 4,
 "nbformat_minor": 5
}
