{
 "cells": [
  {
   "cell_type": "code",
   "execution_count": null,
   "id": "013a9b0c-499c-4cff-9eba-22b85db2549e",
   "metadata": {},
   "outputs": [],
   "source": [
    "#Code Chuncks for experimenting with Networkx. Useful ways of viewing, analyzing etc graphs. "
   ]
  }
 ],
 "metadata": {
  "kernelspec": {
   "display_name": "Python 3 (ipykernel)",
   "language": "python",
   "name": "python3"
  },
  "language_info": {
   "codemirror_mode": {
    "name": "ipython",
    "version": 3
   },
   "file_extension": ".py",
   "mimetype": "text/x-python",
   "name": "python",
   "nbconvert_exporter": "python",
   "pygments_lexer": "ipython3",
   "version": "3.9.6"
  }
 },
 "nbformat": 4,
 "nbformat_minor": 5
}
