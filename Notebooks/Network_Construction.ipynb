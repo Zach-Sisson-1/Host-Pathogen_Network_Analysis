{
 "cells": [
  {
   "cell_type": "markdown",
   "id": "5e667f02-d1bf-488f-916a-a2c44a28820f",
   "metadata": {},
   "source": [
    "# **Constructing the Healthy and Diseased Protein Networks**"
   ]
  },
  {
   "cell_type": "markdown",
   "id": "053c120b-353a-4ce5-a1e2-37685e2159b2",
   "metadata": {},
   "source": [
    "- Use whoevers notebook looks nicest for this part\n",
    "includes:\n",
    "- Goal Description\n",
    "- Brief overview of databases used\n",
    "- Code to merge data, final dataset\n",
    "- Constructs both healthy and diseased networks"
   ]
  }
 ],
 "metadata": {
  "kernelspec": {
   "display_name": "Python 3 (ipykernel)",
   "language": "python",
   "name": "python3"
  },
  "language_info": {
   "codemirror_mode": {
    "name": "ipython",
    "version": 3
   },
   "file_extension": ".py",
   "mimetype": "text/x-python",
   "name": "python",
   "nbconvert_exporter": "python",
   "pygments_lexer": "ipython3",
   "version": "3.9.6"
  }
 },
 "nbformat": 4,
 "nbformat_minor": 5
}
